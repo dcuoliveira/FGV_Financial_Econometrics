{
 "cells": [
  {
   "cell_type": "code",
   "execution_count": 1,
   "metadata": {},
   "outputs": [
    {
     "name": "stderr",
     "output_type": "stream",
     "text": [
      "Warning message:\n",
      "\"package 'here' was built under R version 3.6.3\"here() starts at C:/Users/Daniel/Desktop/Daniel/codes/python_R/FGV_Financial_Econometrics\n",
      "\n",
      "Attaching package: 'dplyr'\n",
      "\n",
      "The following objects are masked from 'package:stats':\n",
      "\n",
      "    filter, lag\n",
      "\n",
      "The following objects are masked from 'package:base':\n",
      "\n",
      "    intersect, setdiff, setequal, union\n",
      "\n",
      "\n",
      "Attaching package: 'data.table'\n",
      "\n",
      "The following objects are masked from 'package:dplyr':\n",
      "\n",
      "    between, first, last\n",
      "\n",
      "Warning message:\n",
      "\"package 'vars' was built under R version 3.6.3\"Loading required package: MASS\n",
      "\n",
      "Attaching package: 'MASS'\n",
      "\n",
      "The following object is masked from 'package:dplyr':\n",
      "\n",
      "    select\n",
      "\n",
      "Loading required package: strucchange\n",
      "Warning message:\n",
      "\"package 'strucchange' was built under R version 3.6.3\"Loading required package: zoo\n",
      "\n",
      "Attaching package: 'zoo'\n",
      "\n",
      "The following objects are masked from 'package:base':\n",
      "\n",
      "    as.Date, as.Date.numeric\n",
      "\n",
      "Loading required package: sandwich\n",
      "Warning message:\n",
      "\"package 'sandwich' was built under R version 3.6.3\"Loading required package: urca\n",
      "Warning message:\n",
      "\"package 'urca' was built under R version 3.6.3\"Loading required package: lmtest\n",
      "Warning message:\n",
      "\"package 'lmtest' was built under R version 3.6.3\"Warning message:\n",
      "\"package 'forecast' was built under R version 3.6.3\"Registered S3 methods overwritten by 'ggplot2':\n",
      "  method         from \n",
      "  [.quosures     rlang\n",
      "  c.quosures     rlang\n",
      "  print.quosures rlang\n",
      "Registered S3 method overwritten by 'xts':\n",
      "  method     from\n",
      "  as.zoo.xts zoo \n",
      "Registered S3 method overwritten by 'quantmod':\n",
      "  method            from\n",
      "  as.zoo.data.frame zoo \n"
     ]
    }
   ],
   "source": [
    "library(readxl)\n",
    "library(here)\n",
    "library(dplyr)\n",
    "library(data.table)\n",
    "library(xtable)\n",
    "library(vars)\n",
    "library(forecast)"
   ]
  },
  {
   "cell_type": "markdown",
   "metadata": {},
   "source": [
    "### Base de dados\n",
    "\n",
    "Um dos indicadores mais importantes dos estados unidos é o \"Institute of Supply Management (ISM) Manufacturing Purchasing Managers Index (PMI)\", mais conhecido no mercado como ISM. Este relatorio é baseado em dados copilados de respotas mensais a executivos do lado da demanda e da oferta em mais de 400 companias.\n",
    "\n",
    "Um fato importante para os agentes que tentam antecipar o ISM é que muitos estados reportam antecipadamente seus ISM. Portanto, é comum utilizar os ISMs estaduais como variáveis independentes no modelo."
   ]
  },
  {
   "cell_type": "markdown",
   "metadata": {},
   "source": [
    "### Objetivo\n",
    "\n",
    "O objetivo principal deste projeto será implementar a metodologia de combinação de previsão proposta por Bates e Granger (1989) utilizando uma série de metodos de previsão no contexto de séries temporais. Mais especificamente, testarermos os seguintes modelos:\n",
    "\n",
    "> **(1)** ARIMA\n",
    "\n",
    "> **(2)** ARIMAX\n",
    "\n",
    "> **(3)** Regressão linear com erros gaussianos\n",
    "\n",
    "> **(4)** VAR\n",
    "\n",
    "Uma vez em posse das estimações dentro da amostra destes modelos, utilizaremos o procedimento de previsão recursiva para avaliar, utiliando a metrica \"mean squared erro (MSE)\", os erros de previsão de cada um dos modelos individualmente, de uma combinação por média, e da combinação proposta por Bates e Granger."
   ]
  },
  {
   "cell_type": "code",
   "execution_count": 2,
   "metadata": {},
   "outputs": [
    {
     "data": {
      "text/html": [
       "<table>\n",
       "<thead><tr><th scope=col>date</th><th scope=col>ISM_Head</th><th scope=col>TX_ISM</th><th scope=col>KAN_ISM</th><th scope=col>EMP_ISM</th><th scope=col>PHI_ISM</th><th scope=col>RICH_ISM</th></tr></thead>\n",
       "<tbody>\n",
       "\t<tr><td>2006-01-31</td><td>55.0      </td><td>30.9      </td><td>16        </td><td>17.5      </td><td> 5.4      </td><td> 6        </td></tr>\n",
       "\t<tr><td>2006-02-28</td><td>55.8      </td><td>29.0      </td><td>12        </td><td>20.9      </td><td>15.3      </td><td> 2        </td></tr>\n",
       "\t<tr><td>2006-03-31</td><td>54.3      </td><td>32.9      </td><td>17        </td><td>33.2      </td><td>14.7      </td><td>14        </td></tr>\n",
       "\t<tr><td>2006-04-30</td><td>55.2      </td><td>25.8      </td><td>15        </td><td>18.5      </td><td>14.2      </td><td> 7        </td></tr>\n",
       "\t<tr><td>2006-05-31</td><td>53.7      </td><td>18.5      </td><td>18        </td><td>18.6      </td><td>13.7      </td><td>-4        </td></tr>\n",
       "\t<tr><td>2006-06-30</td><td>52.0      </td><td>15.4      </td><td>18        </td><td>26.5      </td><td>11.7      </td><td>-3        </td></tr>\n",
       "</tbody>\n",
       "</table>\n"
      ],
      "text/latex": [
       "\\begin{tabular}{r|lllllll}\n",
       " date & ISM\\_Head & TX\\_ISM & KAN\\_ISM & EMP\\_ISM & PHI\\_ISM & RICH\\_ISM\\\\\n",
       "\\hline\n",
       "\t 2006-01-31 & 55.0       & 30.9       & 16         & 17.5       &  5.4       &  6        \\\\\n",
       "\t 2006-02-28 & 55.8       & 29.0       & 12         & 20.9       & 15.3       &  2        \\\\\n",
       "\t 2006-03-31 & 54.3       & 32.9       & 17         & 33.2       & 14.7       & 14        \\\\\n",
       "\t 2006-04-30 & 55.2       & 25.8       & 15         & 18.5       & 14.2       &  7        \\\\\n",
       "\t 2006-05-31 & 53.7       & 18.5       & 18         & 18.6       & 13.7       & -4        \\\\\n",
       "\t 2006-06-30 & 52.0       & 15.4       & 18         & 26.5       & 11.7       & -3        \\\\\n",
       "\\end{tabular}\n"
      ],
      "text/markdown": [
       "\n",
       "| date | ISM_Head | TX_ISM | KAN_ISM | EMP_ISM | PHI_ISM | RICH_ISM |\n",
       "|---|---|---|---|---|---|---|\n",
       "| 2006-01-31 | 55.0       | 30.9       | 16         | 17.5       |  5.4       |  6         |\n",
       "| 2006-02-28 | 55.8       | 29.0       | 12         | 20.9       | 15.3       |  2         |\n",
       "| 2006-03-31 | 54.3       | 32.9       | 17         | 33.2       | 14.7       | 14         |\n",
       "| 2006-04-30 | 55.2       | 25.8       | 15         | 18.5       | 14.2       |  7         |\n",
       "| 2006-05-31 | 53.7       | 18.5       | 18         | 18.6       | 13.7       | -4         |\n",
       "| 2006-06-30 | 52.0       | 15.4       | 18         | 26.5       | 11.7       | -3         |\n",
       "\n"
      ],
      "text/plain": [
       "  date       ISM_Head TX_ISM KAN_ISM EMP_ISM PHI_ISM RICH_ISM\n",
       "1 2006-01-31 55.0     30.9   16      17.5     5.4     6      \n",
       "2 2006-02-28 55.8     29.0   12      20.9    15.3     2      \n",
       "3 2006-03-31 54.3     32.9   17      33.2    14.7    14      \n",
       "4 2006-04-30 55.2     25.8   15      18.5    14.2     7      \n",
       "5 2006-05-31 53.7     18.5   18      18.6    13.7    -4      \n",
       "6 2006-06-30 52.0     15.4   18      26.5    11.7    -3      "
      ]
     },
     "metadata": {},
     "output_type": "display_data"
    }
   ],
   "source": [
    "df = readxl::read_excel(here('src', 'data', 'ISM.xlsx'))\n",
    "df = df[, c('date', 'ISM_Head', 'TX_ISM', 'KAN_ISM', 'EMP_ISM', 'PHI_ISM', 'RICH_ISM')]\n",
    "df = df[complete.cases(df), ]\n",
    "\n",
    "head(df)"
   ]
  },
  {
   "cell_type": "code",
   "execution_count": 3,
   "metadata": {},
   "outputs": [
    {
     "data": {
      "text/html": [
       "<table>\n",
       "<thead><tr><th scope=col>date</th><th scope=col>ISM_Head</th><th scope=col>TX_ISM</th><th scope=col>KAN_ISM</th><th scope=col>EMP_ISM</th><th scope=col>PHI_ISM</th><th scope=col>RICH_ISM</th></tr></thead>\n",
       "<tbody>\n",
       "\t<tr><td>2020-05-31</td><td>43.1      </td><td>-49.2     </td><td>-19       </td><td>-48.5     </td><td>-43.1     </td><td>-28       </td></tr>\n",
       "\t<tr><td>2020-06-30</td><td>52.6      </td><td> -6.1     </td><td>  1       </td><td> -0.2     </td><td> 27.5     </td><td>  0       </td></tr>\n",
       "\t<tr><td>2020-07-31</td><td>54.2      </td><td> -3.0     </td><td>  3       </td><td> 17.2     </td><td> 24.1     </td><td> 10       </td></tr>\n",
       "\t<tr><td>2020-08-31</td><td>56.0      </td><td>  8.0     </td><td> 14       </td><td>  3.7     </td><td> 17.2     </td><td> 18       </td></tr>\n",
       "\t<tr><td>2020-09-30</td><td>55.4      </td><td> 13.6     </td><td> 11       </td><td> 17.0     </td><td> 15.0     </td><td> 21       </td></tr>\n",
       "\t<tr><td>2020-10-31</td><td>59.3      </td><td> 19.8     </td><td> 13       </td><td> 10.5     </td><td> 32.3     </td><td> 29       </td></tr>\n",
       "</tbody>\n",
       "</table>\n"
      ],
      "text/latex": [
       "\\begin{tabular}{r|lllllll}\n",
       " date & ISM\\_Head & TX\\_ISM & KAN\\_ISM & EMP\\_ISM & PHI\\_ISM & RICH\\_ISM\\\\\n",
       "\\hline\n",
       "\t 2020-05-31 & 43.1       & -49.2      & -19        & -48.5      & -43.1      & -28       \\\\\n",
       "\t 2020-06-30 & 52.6       &  -6.1      &   1        &  -0.2      &  27.5      &   0       \\\\\n",
       "\t 2020-07-31 & 54.2       &  -3.0      &   3        &  17.2      &  24.1      &  10       \\\\\n",
       "\t 2020-08-31 & 56.0       &   8.0      &  14        &   3.7      &  17.2      &  18       \\\\\n",
       "\t 2020-09-30 & 55.4       &  13.6      &  11        &  17.0      &  15.0      &  21       \\\\\n",
       "\t 2020-10-31 & 59.3       &  19.8      &  13        &  10.5      &  32.3      &  29       \\\\\n",
       "\\end{tabular}\n"
      ],
      "text/markdown": [
       "\n",
       "| date | ISM_Head | TX_ISM | KAN_ISM | EMP_ISM | PHI_ISM | RICH_ISM |\n",
       "|---|---|---|---|---|---|---|\n",
       "| 2020-05-31 | 43.1       | -49.2      | -19        | -48.5      | -43.1      | -28        |\n",
       "| 2020-06-30 | 52.6       |  -6.1      |   1        |  -0.2      |  27.5      |   0        |\n",
       "| 2020-07-31 | 54.2       |  -3.0      |   3        |  17.2      |  24.1      |  10        |\n",
       "| 2020-08-31 | 56.0       |   8.0      |  14        |   3.7      |  17.2      |  18        |\n",
       "| 2020-09-30 | 55.4       |  13.6      |  11        |  17.0      |  15.0      |  21        |\n",
       "| 2020-10-31 | 59.3       |  19.8      |  13        |  10.5      |  32.3      |  29        |\n",
       "\n"
      ],
      "text/plain": [
       "  date       ISM_Head TX_ISM KAN_ISM EMP_ISM PHI_ISM RICH_ISM\n",
       "1 2020-05-31 43.1     -49.2  -19     -48.5   -43.1   -28     \n",
       "2 2020-06-30 52.6      -6.1    1      -0.2    27.5     0     \n",
       "3 2020-07-31 54.2      -3.0    3      17.2    24.1    10     \n",
       "4 2020-08-31 56.0       8.0   14       3.7    17.2    18     \n",
       "5 2020-09-30 55.4      13.6   11      17.0    15.0    21     \n",
       "6 2020-10-31 59.3      19.8   13      10.5    32.3    29     "
      ]
     },
     "metadata": {},
     "output_type": "display_data"
    }
   ],
   "source": [
    "tail(df)"
   ]
  },
  {
   "cell_type": "code",
   "execution_count": 4,
   "metadata": {},
   "outputs": [],
   "source": [
    "df_est = df[1:100,] %>% dplyr::select(-date)\n",
    "df_fore = df[101:dim(df)[1],] %>% dplyr::select(-date)"
   ]
  },
  {
   "cell_type": "markdown",
   "metadata": {},
   "source": [
    "### ARIMA(p, j, q)\n",
    "\n",
    "Como visto em aula, utilizaremos os criterios de informacao para determinar os termos $p$ e $q$."
   ]
  },
  {
   "cell_type": "code",
   "execution_count": 5,
   "metadata": {},
   "outputs": [
    {
     "name": "stdout",
     "output_type": "stream",
     "text": [
      "% latex table generated in R 3.6.1 by xtable 1.8-4 package\n",
      "% Sun Dec 06 16:13:56 2020\n",
      "\\begin{table}[ht]\n",
      "\\centering\n",
      "\\begin{tabular}{rrrrr}\n",
      "  \\hline\n",
      " & MA0 & MA1 & MA2 & AR \\\\ \n",
      "  \\hline\n",
      "1 & 604.33 & 518.25 & 467.59 &   0 \\\\ \n",
      "  2 & 414.96 & 414.54 & 409.52 &   1 \\\\ \n",
      "  3 & 414.33 & 414.91 & 407.38 &   2 \\\\ \n",
      "  4 & 408.48 & 407.21 & 408.55 &   3 \\\\ \n",
      "  5 & 407.30 & 407.29 & 407.09 &   4 \\\\ \n",
      "  6 & 407.30 & 404.85 & 403.99 &   5 \\\\ \n",
      "  7 & 406.62 & 406.57 & 401.51 &   6 \\\\ \n",
      "  8 & 406.53 & 406.49 & 401.82 &   7 \\\\ \n",
      "  9 & 406.43 & 405.99 & 398.26 &   8 \\\\ \n",
      "  10 & 406.38 & 405.84 & 400.73 &   9 \\\\ \n",
      "  11 & 406.07 & 405.18 & 395.81 &  10 \\\\ \n",
      "   \\hline\n",
      "\\end{tabular}\n",
      "\\end{table}\n"
     ]
    }
   ],
   "source": [
    "ism_arma = list('AIC' = data.table(), 'BIC' = data.table())\n",
    "for (ar.lag in 0:10) {\n",
    "  arma.stat = rep(0, 6)\n",
    "  for (ma.lag in 0:2) {\n",
    "    arma.fit = arima(df_est[,c('ISM_Head')], order = c(ar.lag, 0, ma.lag))\n",
    "    # arma.fit\n",
    "    # AIC\n",
    "    arma.stat[ma.lag + 1] <- arma.fit$aic\n",
    "    # BIC\n",
    "    arma.stat[ma.lag + 4] <- -2 * arma.fit$loglik + (ar.lag + ma.lag) * log(length(df_est[,c('ISM_Head')]))\n",
    "  }\n",
    "  ism_arma$AIC = rbindlist(list(ism_arma$AIC, data.table(t(arma.stat[1:3]))))\n",
    "  ism_arma$BIC = rbindlist(list(ism_arma$BIC, data.table(t(arma.stat[4:6]))))\n",
    "}\n",
    "setnames(ism_arma$AIC, c('MA0', 'MA1', 'MA2'))\n",
    "ism_arma$AIC[, AR := 0:10]\n",
    "setnames(ism_arma$BIC, c('MA0', 'MA1', 'MA2'))\n",
    "ism_arma$BIC[, AR := (0:10)]\n",
    "\n",
    "\n",
    "BIC_selec.mat = rbind(ism_arma$BIC[, AR := (0:10)])\n",
    "print(xtable(BIC_selec.mat))"
   ]
  },
  {
   "cell_type": "markdown",
   "metadata": {},
   "source": [
    "A combinação que minimiza o criterio BIC é ar(10) e ma(2), portanto este será nossa especificação do modelo ARMA"
   ]
  },
  {
   "cell_type": "markdown",
   "metadata": {},
   "source": [
    "### ARIMAX(p, j, q)\n",
    "\n",
    "O modelo arimax é simplesmente o modelo modelo arima com variáveis exogenas. Utilizaremos uma especificação mais simples do que a encontrada anteriormente mas colocaremos todas os outros ISM como variaveis exógenas."
   ]
  },
  {
   "cell_type": "markdown",
   "metadata": {},
   "source": [
    "### O modelo de regressão linear com erros gaussianos\n",
    "\n",
    "Mais simples de todos. Utilizaremos o modelos de regressão tradicional com erros gaussianos e constante, além de usar todos os outros ISM como variáveis exógenas."
   ]
  },
  {
   "cell_type": "markdown",
   "metadata": {},
   "source": [
    "### VAR\n",
    "\n",
    "Utilizaremos o mesmo procedimento de especificação da ordem $p$ do VAR(p) utilizado no modelo ARMA para determinar quantos termos autoregressivos utilizaremos na regressão."
   ]
  },
  {
   "cell_type": "code",
   "execution_count": 6,
   "metadata": {},
   "outputs": [
    {
     "data": {
      "text/html": [
       "<dl>\n",
       "\t<dt>$selection</dt>\n",
       "\t\t<dd><dl class=dl-horizontal>\n",
       "\t<dt>AIC(n)</dt>\n",
       "\t\t<dd>1</dd>\n",
       "\t<dt>HQ(n)</dt>\n",
       "\t\t<dd>1</dd>\n",
       "\t<dt>SC(n)</dt>\n",
       "\t\t<dd>1</dd>\n",
       "\t<dt>FPE(n)</dt>\n",
       "\t\t<dd>1</dd>\n",
       "</dl>\n",
       "</dd>\n",
       "\t<dt>$criteria</dt>\n",
       "\t\t<dd><table>\n",
       "<thead><tr><th></th><th scope=col>1</th><th scope=col>2</th><th scope=col>3</th><th scope=col>4</th><th scope=col>5</th></tr></thead>\n",
       "<tbody>\n",
       "\t<tr><th scope=row>AIC(n)</th><td>1.990636e+01</td><td>2.001854e+01</td><td>2.001364e+01</td><td>2.028666e+01</td><td>2.030054e+01</td></tr>\n",
       "\t<tr><th scope=row>HQ(n)</th><td>2.036259e+01</td><td>2.086583e+01</td><td>2.125199e+01</td><td>2.191607e+01</td><td>2.232101e+01</td></tr>\n",
       "\t<tr><th scope=row>SC(n)</th><td>2.103544e+01</td><td>2.211540e+01</td><td>2.307829e+01</td><td>2.431910e+01</td><td>2.530077e+01</td></tr>\n",
       "\t<tr><th scope=row>FPE(n)</th><td>4.425056e+08</td><td>4.993920e+08</td><td>5.082238e+08</td><td>6.973111e+08</td><td>7.602428e+08</td></tr>\n",
       "</tbody>\n",
       "</table>\n",
       "</dd>\n",
       "</dl>\n"
      ],
      "text/latex": [
       "\\begin{description}\n",
       "\\item[\\$selection] \\begin{description*}\n",
       "\\item[AIC(n)] 1\n",
       "\\item[HQ(n)] 1\n",
       "\\item[SC(n)] 1\n",
       "\\item[FPE(n)] 1\n",
       "\\end{description*}\n",
       "\n",
       "\\item[\\$criteria] \\begin{tabular}{r|lllll}\n",
       "  & 1 & 2 & 3 & 4 & 5\\\\\n",
       "\\hline\n",
       "\tAIC(n) & 1.990636e+01 & 2.001854e+01 & 2.001364e+01 & 2.028666e+01 & 2.030054e+01\\\\\n",
       "\tHQ(n) & 2.036259e+01 & 2.086583e+01 & 2.125199e+01 & 2.191607e+01 & 2.232101e+01\\\\\n",
       "\tSC(n) & 2.103544e+01 & 2.211540e+01 & 2.307829e+01 & 2.431910e+01 & 2.530077e+01\\\\\n",
       "\tFPE(n) & 4.425056e+08 & 4.993920e+08 & 5.082238e+08 & 6.973111e+08 & 7.602428e+08\\\\\n",
       "\\end{tabular}\n",
       "\n",
       "\\end{description}\n"
      ],
      "text/markdown": [
       "$selection\n",
       ":   AIC(n)\n",
       ":   1HQ(n)\n",
       ":   1SC(n)\n",
       ":   1FPE(n)\n",
       ":   1\n",
       "\n",
       "\n",
       "$criteria\n",
       ":   \n",
       "| <!--/--> | 1 | 2 | 3 | 4 | 5 |\n",
       "|---|---|---|---|---|---|\n",
       "| AIC(n) | 1.990636e+01 | 2.001854e+01 | 2.001364e+01 | 2.028666e+01 | 2.030054e+01 |\n",
       "| HQ(n) | 2.036259e+01 | 2.086583e+01 | 2.125199e+01 | 2.191607e+01 | 2.232101e+01 |\n",
       "| SC(n) | 2.103544e+01 | 2.211540e+01 | 2.307829e+01 | 2.431910e+01 | 2.530077e+01 |\n",
       "| FPE(n) | 4.425056e+08 | 4.993920e+08 | 5.082238e+08 | 6.973111e+08 | 7.602428e+08 |\n",
       "\n",
       "\n",
       "\n",
       "\n"
      ],
      "text/plain": [
       "$selection\n",
       "AIC(n)  HQ(n)  SC(n) FPE(n) \n",
       "     1      1      1      1 \n",
       "\n",
       "$criteria\n",
       "                  1            2            3            4            5\n",
       "AIC(n) 1.990636e+01 2.001854e+01 2.001364e+01 2.028666e+01 2.030054e+01\n",
       "HQ(n)  2.036259e+01 2.086583e+01 2.125199e+01 2.191607e+01 2.232101e+01\n",
       "SC(n)  2.103544e+01 2.211540e+01 2.307829e+01 2.431910e+01 2.530077e+01\n",
       "FPE(n) 4.425056e+08 4.993920e+08 5.082238e+08 6.973111e+08 7.602428e+08\n"
      ]
     },
     "metadata": {},
     "output_type": "display_data"
    }
   ],
   "source": [
    "VARselect(df_est, lag.max = 5)"
   ]
  },
  {
   "cell_type": "markdown",
   "metadata": {},
   "source": [
    "De acordo com todos os critérios, inclusive o AIC, o número de termos autoregressivos $p$ que os minimiza é 1. "
   ]
  },
  {
   "cell_type": "markdown",
   "metadata": {},
   "source": [
    "### Função de previsão fora da amostra"
   ]
  },
  {
   "cell_type": "code",
   "execution_count": 8,
   "metadata": {},
   "outputs": [],
   "source": [
    "pred_list = list()\n",
    "df_oos = df %>% dplyr::select(-date)\n",
    "j = 1\n",
    "for (i in 100:dim(df_oos)[1]){\n",
    "    comb = list()\n",
    "    modd_arima = Arima(y = df_oos[1:i, c('ISM_Head')], order = c(10, 0, 2))\n",
    "    pred_arima = predict(modd_arima, n.ahead = 1)\n",
    "    pred_list[['arima']][j] = pred_arima$pred[1]\n",
    "    comb[1] = pred_arima$pred[1]\n",
    "    \n",
    "    \n",
    "    modd_arimax = Arima(y = df_oos[1:i, c('ISM_Head')], xreg = as.matrix(df_oos[1:i, c('TX_ISM', 'KAN_ISM', 'EMP_ISM', 'PHI_ISM', 'RICH_ISM')]),\n",
    "                       order = c(1, 0, 1))\n",
    "    pred_arimax = predict(modd_arimax, newxreg = as.matrix(df_oos[i+1, c('TX_ISM', 'KAN_ISM', 'EMP_ISM', 'PHI_ISM', 'RICH_ISM')]),\n",
    "                         n.ahead = 1)\n",
    "    pred_list[['arimax']][j] = pred_arimax$pred[1]\n",
    "    comb[2] = pred_arimax$pred[1]\n",
    "\n",
    "    \n",
    "    modd_lm = lm(ISM_Head ~TX_ISM + KAN_ISM + EMP_ISM + PHI_ISM + RICH_ISM,  df_oos[1:i, ])\n",
    "    pred_lm = predict(modd_lm, newxreg = df_oos[i+1, c('TX_ISM', 'KAN_ISM', 'EMP_ISM', 'PHI_ISM', 'RICH_ISM')],\n",
    "                     n.ahead = 1)\n",
    "    pred_list[['lm']][j] = pred_lm[[1]]\n",
    "    comb[3] = pred_lm[[1]]\n",
    "\n",
    "    \n",
    "    modd_var = VAR(df_oos[1:i, c('ISM_Head', 'TX_ISM', 'KAN_ISM', 'EMP_ISM', 'PHI_ISM', 'RICH_ISM')], p=1)\n",
    "    pred_var = predict(modd_var, n.ahead = 1)\n",
    "    pred_list[['var']][j] = pred_var$fcst$ISM_Head[1]\n",
    "    comb[4] = pred_var$fcst$ISM_Head[1]\n",
    "\n",
    "    pred_mean = mean(do.call('rbind', comb), na.rm=TRUE)\n",
    "    pred_list[['mean']][j] = pred_mean\n",
    "    #pred_bates_granger\n",
    "    j = j+1\n",
    "}"
   ]
  },
  {
   "cell_type": "code",
   "execution_count": 12,
   "metadata": {},
   "outputs": [],
   "source": [
    "df_final = do.call('cbind', pred_list)"
   ]
  },
  {
   "cell_type": "code",
   "execution_count": 27,
   "metadata": {},
   "outputs": [
    {
     "name": "stdout",
     "output_type": "stream",
     "text": [
      "package 'Rcpp' successfully unpacked and MD5 sums checked\n"
     ]
    },
    {
     "name": "stderr",
     "output_type": "stream",
     "text": [
      "Warning message:\n",
      "\"cannot remove prior installation of package 'Rcpp'\"Warning message in file.copy(savedcopy, lib, recursive = TRUE):\n",
      "\"problem copying C:\\Users\\Daniel\\Anaconda3\\envs\\Renv\\Lib\\R\\library\\00LOCK\\Rcpp\\libs\\x64\\Rcpp.dll to C:\\Users\\Daniel\\Anaconda3\\envs\\Renv\\Lib\\R\\library\\Rcpp\\libs\\x64\\Rcpp.dll: Permission denied\"Warning message:\n",
      "\"restored 'Rcpp'\""
     ]
    }
   ],
   "source": [
    "install.packages(\"C:/Users/Daniel/Downloads/Rcpp_1.0.5.zip\", repos = NULL)"
   ]
  },
  {
   "cell_type": "code",
   "execution_count": 32,
   "metadata": {},
   "outputs": [
    {
     "name": "stderr",
     "output_type": "stream",
     "text": [
      "Warning message:\n",
      "\"package 'pacman' was built under R version 3.6.3\""
     ]
    }
   ],
   "source": [
    "library(\"pacman\")"
   ]
  },
  {
   "cell_type": "code",
   "execution_count": 33,
   "metadata": {},
   "outputs": [
    {
     "name": "stderr",
     "output_type": "stream",
     "text": [
      "\n",
      "No 00LOCK detected in:\n",
      " C:/Users/Daniel/Anaconda3/envs/Renv/Lib/R/library\n"
     ]
    }
   ],
   "source": [
    "p_unlock()"
   ]
  },
  {
   "cell_type": "code",
   "execution_count": 30,
   "metadata": {},
   "outputs": [
    {
     "data": {
      "text/html": [
       "'C:\\\\Users\\\\Daniel\\\\Documents/R/win-library/3.6'"
      ],
      "text/latex": [
       "'C:\\textbackslash{}\\textbackslash{}Users\\textbackslash{}\\textbackslash{}Daniel\\textbackslash{}\\textbackslash{}Documents/R/win-library/3.6'"
      ],
      "text/markdown": [
       "'C:\\\\Users\\\\Daniel\\\\Documents/R/win-library/3.6'"
      ],
      "text/plain": [
       "[1] \"C:\\\\Users\\\\Daniel\\\\Documents/R/win-library/3.6\""
      ]
     },
     "metadata": {},
     "output_type": "display_data"
    }
   ],
   "source": [
    "Sys.getenv(\"R_LIBS_USER\")"
   ]
  },
  {
   "cell_type": "code",
   "execution_count": 29,
   "metadata": {},
   "outputs": [
    {
     "name": "stdout",
     "output_type": "stream",
     "text": [
      "package 'Rcpp' successfully unpacked and MD5 sums checked\n"
     ]
    },
    {
     "name": "stderr",
     "output_type": "stream",
     "text": [
      "Warning message:\n",
      "\"cannot remove prior installation of package 'Rcpp'\"Warning message in file.copy(savedcopy, lib, recursive = TRUE):\n",
      "\"problem copying C:\\Users\\Daniel\\Anaconda3\\envs\\Renv\\Lib\\R\\library\\00LOCK\\Rcpp\\libs\\x64\\Rcpp.dll to C:\\Users\\Daniel\\Anaconda3\\envs\\Renv\\Lib\\R\\library\\Rcpp\\libs\\x64\\Rcpp.dll: Permission denied\"Warning message:\n",
      "\"restored 'Rcpp'\""
     ]
    },
    {
     "name": "stdout",
     "output_type": "stream",
     "text": [
      "\n",
      "The downloaded binary packages are in\n",
      "\tC:\\Users\\Daniel\\AppData\\Local\\Temp\\RtmpYlZ3FI\\downloaded_packages\n"
     ]
    }
   ],
   "source": [
    "install.packages(\"Rcpp\")"
   ]
  },
  {
   "cell_type": "code",
   "execution_count": null,
   "metadata": {},
   "outputs": [],
   "source": [
    "library('GeomComb')"
   ]
  },
  {
   "cell_type": "code",
   "execution_count": null,
   "metadata": {},
   "outputs": [],
   "source": []
  }
 ],
 "metadata": {
  "kernelspec": {
   "display_name": "R",
   "language": "R",
   "name": "ir"
  },
  "language_info": {
   "codemirror_mode": "r",
   "file_extension": ".r",
   "mimetype": "text/x-r-source",
   "name": "R",
   "pygments_lexer": "r",
   "version": "3.6.1"
  }
 },
 "nbformat": 4,
 "nbformat_minor": 4
}
