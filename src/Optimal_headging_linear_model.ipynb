{
 "cells": [
  {
   "cell_type": "markdown",
   "metadata": {},
   "source": [
    "# Exercise\n",
    "\n",
    "**(1)** Verify which of the returns is riskier (apple or dow jones)\n",
    "\n",
    "**(2)** Use the dow jones and Apple data to design an optimal headging strategy for a long exposure on apple shares\n",
    "\n",
    "**(3)** Test the hypothesis that the intercept of the linear model is zero"
   ]
  },
  {
   "cell_type": "code",
   "execution_count": 1,
   "metadata": {},
   "outputs": [
    {
     "name": "stderr",
     "output_type": "stream",
     "text": [
      "Warning message:\n",
      "\"package 'here' was built under R version 3.6.3\"here() starts at C:/Users/Daniel/Desktop/Daniel/codes/python/FGV_Financial_Econometrics\n",
      "Warning message:\n",
      "\"package 'car' was built under R version 3.6.3\"Loading required package: carData\n",
      "Warning message:\n",
      "\"package 'carData' was built under R version 3.6.3\""
     ]
    }
   ],
   "source": [
    "library(readxl)\n",
    "library(here)\n",
    "library(car)\n",
    "\n",
    "dados = read_excel(here('src', \"data\", \"Dados_aula2.xlsx\"), sheet='Planilha2')"
   ]
  },
  {
   "cell_type": "code",
   "execution_count": 2,
   "metadata": {},
   "outputs": [
    {
     "data": {
      "text/html": [
       "<table>\n",
       "<thead><tr><th scope=col>Data</th><th scope=col>DJIA</th><th scope=col>Apple</th><th scope=col>SP500</th></tr></thead>\n",
       "<tbody>\n",
       "\t<tr><td>1999-12-31</td><td>11497.12  </td><td>0.7932525 </td><td>1469.26   </td></tr>\n",
       "\t<tr><td>2000-01-03</td><td>11357.51  </td><td>0.8636567 </td><td>1455.22   </td></tr>\n",
       "\t<tr><td>2000-01-04</td><td>10997.93  </td><td>0.7908414 </td><td>1399.42   </td></tr>\n",
       "\t<tr><td>2000-01-05</td><td>11122.65  </td><td>0.8024147 </td><td>1402.11   </td></tr>\n",
       "\t<tr><td>2000-01-06</td><td>11253.26  </td><td>0.7329750 </td><td>1403.45   </td></tr>\n",
       "\t<tr><td>2000-01-07</td><td>11522.56  </td><td>0.7676949 </td><td>1441.47   </td></tr>\n",
       "</tbody>\n",
       "</table>\n"
      ],
      "text/latex": [
       "\\begin{tabular}{r|llll}\n",
       " Data & DJIA & Apple & SP500\\\\\n",
       "\\hline\n",
       "\t 1999-12-31 & 11497.12   & 0.7932525  & 1469.26   \\\\\n",
       "\t 2000-01-03 & 11357.51   & 0.8636567  & 1455.22   \\\\\n",
       "\t 2000-01-04 & 10997.93   & 0.7908414  & 1399.42   \\\\\n",
       "\t 2000-01-05 & 11122.65   & 0.8024147  & 1402.11   \\\\\n",
       "\t 2000-01-06 & 11253.26   & 0.7329750  & 1403.45   \\\\\n",
       "\t 2000-01-07 & 11522.56   & 0.7676949  & 1441.47   \\\\\n",
       "\\end{tabular}\n"
      ],
      "text/markdown": [
       "\n",
       "| Data | DJIA | Apple | SP500 |\n",
       "|---|---|---|---|\n",
       "| 1999-12-31 | 11497.12   | 0.7932525  | 1469.26    |\n",
       "| 2000-01-03 | 11357.51   | 0.8636567  | 1455.22    |\n",
       "| 2000-01-04 | 10997.93   | 0.7908414  | 1399.42    |\n",
       "| 2000-01-05 | 11122.65   | 0.8024147  | 1402.11    |\n",
       "| 2000-01-06 | 11253.26   | 0.7329750  | 1403.45    |\n",
       "| 2000-01-07 | 11522.56   | 0.7676949  | 1441.47    |\n",
       "\n"
      ],
      "text/plain": [
       "  Data       DJIA     Apple     SP500  \n",
       "1 1999-12-31 11497.12 0.7932525 1469.26\n",
       "2 2000-01-03 11357.51 0.8636567 1455.22\n",
       "3 2000-01-04 10997.93 0.7908414 1399.42\n",
       "4 2000-01-05 11122.65 0.8024147 1402.11\n",
       "5 2000-01-06 11253.26 0.7329750 1403.45\n",
       "6 2000-01-07 11522.56 0.7676949 1441.47"
      ]
     },
     "metadata": {},
     "output_type": "display_data"
    }
   ],
   "source": [
    "head(dados)"
   ]
  },
  {
   "cell_type": "code",
   "execution_count": 7,
   "metadata": {},
   "outputs": [
    {
     "name": "stderr",
     "output_type": "stream",
     "text": [
      "Warning message in diff(dados$Apple)/lag(dados$Apple):\n",
      "\"longer object length is not a multiple of shorter object length\"Warning message in diff(dados$SP500)/lag(dados$SP500):\n",
      "\"longer object length is not a multiple of shorter object length\"Warning message in diff(dados$DJIA)/lag(dados$DJIA):\n",
      "\"longer object length is not a multiple of shorter object length\""
     ]
    }
   ],
   "source": [
    "apple = (diff(dados$Apple)/lag(dados$Apple))*100\n",
    "snp = (diff(dados$SP500)/lag(dados$SP500))*100\n",
    "dj = (diff(dados$DJIA)/lag(dados$DJIA))*100"
   ]
  },
  {
   "cell_type": "code",
   "execution_count": 8,
   "metadata": {},
   "outputs": [
    {
     "data": {
      "image/png": "[encoded data removed]",
      "text/plain": [
       "plot without title"
      ]
     },
     "metadata": {},
     "output_type": "display_data"
    }
   ],
   "source": [
    "ts.plot(apple)"
   ]
  },
  {
   "cell_type": "code",
   "execution_count": 9,
   "metadata": {},
   "outputs": [
    {
     "data": {
      "image/png": "[encoded data removed]",
      "text/plain": [
       "plot without title"
      ]
     },
     "metadata": {},
     "output_type": "display_data"
    }
   ],
   "source": [
    "ts.plot(dj)"
   ]
  },
  {
   "cell_type": "markdown",
   "metadata": {},
   "source": [
    "## *(1)*\n",
    "\n",
    "Assuming the sample variance as a measure of risk of an asset, lets calculate it for the returns of the apple shares and dow jones index"
   ]
  },
  {
   "cell_type": "code",
   "execution_count": 18,
   "metadata": {},
   "outputs": [
    {
     "name": "stdout",
     "output_type": "stream",
     "text": [
      "[1] \"variance of the dow jones returns: 1.4572113669178 variance of the apple shares returns: 6.5922574066783\"\n"
     ]
    }
   ],
   "source": [
    "print(paste0('variance of the dow jones returns: ' , var(dj), ' variance of the apple shares returns: ', var(apple)))"
   ]
  },
  {
   "cell_type": "markdown",
   "metadata": {},
   "source": [
    "The variance of the apple shares is higher than the same metric for the dow jones index. Therefore, we can conclude that the apple shares are riskier than the dow index."
   ]
  },
  {
   "cell_type": "markdown",
   "metadata": {},
   "source": [
    "## *(2)*"
   ]
  },
  {
   "cell_type": "markdown",
   "metadata": {},
   "source": [
    "According to Brooks Brooks (2014) many authors consider that the goal of headging is to minimize the variance of the headged portfolio. Since the OLS estimator is the one that minimizes the sum of the squared error between the portfolio return and the estimated portfolio return (which is close to the variance), we can interpret the OLS estimator as the amount of units of the hedge asset that we need to buy/sell in order to hedge the portfolio. \n",
    "\n",
    "In our case, we assume that our portfolio consists of Apple shares, and we want to compare a hedging strategy using dow jones index and, as an extra comparison, we would like to check which of the indeces are better hedges for the apple shares."
   ]
  },
  {
   "cell_type": "markdown",
   "metadata": {},
   "source": [
    "## Model 1\n",
    "\n",
    "$$\n",
    "apple_t = \\alpha + \\beta DJ_t + \\epsilon_t\n",
    "$$"
   ]
  },
  {
   "cell_type": "code",
   "execution_count": 19,
   "metadata": {},
   "outputs": [
    {
     "data": {
      "text/plain": [
       "\n",
       "Call:\n",
       "lm(formula = apple ~ dj)\n",
       "\n",
       "Residuals:\n",
       "    Min      1Q  Median      3Q     Max \n",
       "-50.254  -0.944  -0.054   0.927  14.212 \n",
       "\n",
       "Coefficients:\n",
       "            Estimate Std. Error t value Pr(>|t|)    \n",
       "(Intercept)  0.10411    0.03065   3.397 0.000686 ***\n",
       "dj           1.07481    0.02538  42.342  < 2e-16 ***\n",
       "---\n",
       "Signif. codes:  0 '***' 0.001 '**' 0.01 '*' 0.05 '.' 0.1 ' ' 1\n",
       "\n",
       "Residual standard error: 2.216 on 5228 degrees of freedom\n",
       "Multiple R-squared:  0.2554,\tAdjusted R-squared:  0.2552 \n",
       "F-statistic:  1793 on 1 and 5228 DF,  p-value: < 2.2e-16\n"
      ]
     },
     "metadata": {},
     "output_type": "display_data"
    }
   ],
   "source": [
    "regressao_df2 = lm(apple ~ dj)\n",
    "summary(regressao_df2)"
   ]
  },
  {
   "cell_type": "code",
   "execution_count": 20,
   "metadata": {},
   "outputs": [
    {
     "data": {
      "image/png": "[encoded data removed]",
      "text/plain": [
       "Plot with title \"Scatted Plot-least squared fitted for First Difference\""
      ]
     },
     "metadata": {},
     "output_type": "display_data"
    }
   ],
   "source": [
    "plot.default(dj, apple, col='darkblue')\n",
    "abline(coef(regressao_df2), col='red')\n",
    "legend('topleft', legend=c(paste0('apple = ', round(regressao_df2$coefficients[1], 3), ' + ', round(regressao_df2$coefficients[2], 3), '*dj')), col=c('red'), pch=15)\n",
    "title('Scatted Plot-least squared fitted for First Difference')"
   ]
  },
  {
   "cell_type": "markdown",
   "metadata": {},
   "source": [
    "## Model 2 (extra)\n",
    "\n",
    "$$\n",
    "apple_t = \\alpha + \\beta sp500_t + \\epsilon_t\n",
    "$$"
   ]
  },
  {
   "cell_type": "code",
   "execution_count": 21,
   "metadata": {},
   "outputs": [
    {
     "data": {
      "text/plain": [
       "\n",
       "Call:\n",
       "lm(formula = apple ~ snp)\n",
       "\n",
       "Residuals:\n",
       "    Min      1Q  Median      3Q     Max \n",
       "-50.280  -0.926  -0.071   0.869  14.108 \n",
       "\n",
       "Coefficients:\n",
       "            Estimate Std. Error t value Pr(>|t|)    \n",
       "(Intercept)  0.10291    0.02957    3.48 0.000505 ***\n",
       "snp          1.13290    0.02355   48.10  < 2e-16 ***\n",
       "---\n",
       "Signif. codes:  0 '***' 0.001 '**' 0.01 '*' 0.05 '.' 0.1 ' ' 1\n",
       "\n",
       "Residual standard error: 2.138 on 5228 degrees of freedom\n",
       "Multiple R-squared:  0.3068,\tAdjusted R-squared:  0.3067 \n",
       "F-statistic:  2314 on 1 and 5228 DF,  p-value: < 2.2e-16\n"
      ]
     },
     "metadata": {},
     "output_type": "display_data"
    }
   ],
   "source": [
    "regressao_df = lm(apple ~ snp)\n",
    "summary(regressao_df)"
   ]
  },
  {
   "cell_type": "code",
   "execution_count": 22,
   "metadata": {},
   "outputs": [
    {
     "data": {
      "image/png": "[encoded data removed]",
      "text/plain": [
       "Plot with title \"Scatted Plot-least squared fitted for First Difference\""
      ]
     },
     "metadata": {},
     "output_type": "display_data"
    }
   ],
   "source": [
    "plot.default(snp, apple, col='darkblue')\n",
    "abline(coef(regressao_df), col='red')\n",
    "legend('topleft', legend=c(paste0('apple1 = ', round(regressao_df$coefficients[1], 3), ' + ', round(regressao_df$coefficients[2], 3), '*snp')), col=c('red'), pch=15)\n",
    "title('Scatted Plot-least squared fitted for First Difference')"
   ]
  },
  {
   "cell_type": "code",
   "execution_count": 23,
   "metadata": {},
   "outputs": [
    {
     "data": {
      "text/html": [
       "'SSE apple vs snp: -4.01303990038571e-13'"
      ],
      "text/latex": [
       "'SSE apple vs snp: -4.01303990038571e-13'"
      ],
      "text/markdown": [
       "'SSE apple vs snp: -4.01303990038571e-13'"
      ],
      "text/plain": [
       "[1] \"SSE apple vs snp: -4.01303990038571e-13\""
      ]
     },
     "metadata": {},
     "output_type": "display_data"
    }
   ],
   "source": [
    "paste0('SSE apple vs snp: ', sum(regressao_df$residuals))"
   ]
  },
  {
   "cell_type": "code",
   "execution_count": 24,
   "metadata": {},
   "outputs": [
    {
     "data": {
      "text/html": [
       "'SSE apple vs dj: 1.82742709853301e-13'"
      ],
      "text/latex": [
       "'SSE apple vs dj: 1.82742709853301e-13'"
      ],
      "text/markdown": [
       "'SSE apple vs dj: 1.82742709853301e-13'"
      ],
      "text/plain": [
       "[1] \"SSE apple vs dj: 1.82742709853301e-13\""
      ]
     },
     "metadata": {},
     "output_type": "display_data"
    }
   ],
   "source": [
    "paste0('SSE apple vs dj: ', sum(regressao_df2$residuals))"
   ]
  },
  {
   "cell_type": "markdown",
   "metadata": {},
   "source": [
    "To evaluate the goodness of fit of the two models we can check for the scatter plots with the fitted line, the R2, and the sum of the squared errors (SSE). According to all three metrics, the SnP500 appears to be a better hedge for a portfolio that has only apple stocks.\n",
    "\n",
    "Since the Nasdaq is the tech oriented index of us stocks, it would be interesting to make the same exercise using it."
   ]
  },
  {
   "cell_type": "markdown",
   "metadata": {},
   "source": [
    "## *(3)*\n",
    "\n",
    "H0: intercept = 0"
   ]
  },
  {
   "cell_type": "code",
   "execution_count": 25,
   "metadata": {},
   "outputs": [
    {
     "data": {
      "text/html": [
       "<table>\n",
       "<thead><tr><th scope=col>Res.Df</th><th scope=col>RSS</th><th scope=col>Df</th><th scope=col>Sum of Sq</th><th scope=col>F</th><th scope=col>Pr(&gt;F)</th></tr></thead>\n",
       "<tbody>\n",
       "\t<tr><td>5229        </td><td>25725.08    </td><td>NA          </td><td>     NA     </td><td>      NA    </td><td>          NA</td></tr>\n",
       "\t<tr><td>5228        </td><td>25668.41    </td><td> 1          </td><td>56.6655     </td><td>11.54132    </td><td>0.0006857443</td></tr>\n",
       "</tbody>\n",
       "</table>\n"
      ],
      "text/latex": [
       "\\begin{tabular}{r|llllll}\n",
       " Res.Df & RSS & Df & Sum of Sq & F & Pr(>F)\\\\\n",
       "\\hline\n",
       "\t 5229         & 25725.08     & NA           &      NA      &       NA     &           NA\\\\\n",
       "\t 5228         & 25668.41     &  1           & 56.6655      & 11.54132     & 0.0006857443\\\\\n",
       "\\end{tabular}\n"
      ],
      "text/markdown": [
       "\n",
       "| Res.Df | RSS | Df | Sum of Sq | F | Pr(>F) |\n",
       "|---|---|---|---|---|---|\n",
       "| 5229         | 25725.08     | NA           |      NA      |       NA     |           NA |\n",
       "| 5228         | 25668.41     |  1           | 56.6655      | 11.54132     | 0.0006857443 |\n",
       "\n"
      ],
      "text/plain": [
       "  Res.Df RSS      Df Sum of Sq F        Pr(>F)      \n",
       "1 5229   25725.08 NA      NA         NA           NA\n",
       "2 5228   25668.41  1 56.6655   11.54132 0.0006857443"
      ]
     },
     "metadata": {},
     "output_type": "display_data"
    }
   ],
   "source": [
    "linearHypothesis(regressao_df2,\"(Intercept)=0\")"
   ]
  },
  {
   "cell_type": "markdown",
   "metadata": {},
   "source": [
    "Under the null hypothesis stated above, the p-value provides evidence that we can reject H0."
   ]
  },
  {
   "cell_type": "code",
   "execution_count": null,
   "metadata": {},
   "outputs": [],
   "source": []
  }
 ],
 "metadata": {
  "kernelspec": {
   "display_name": "R",
   "language": "R",
   "name": "ir"
  },
  "language_info": {
   "codemirror_mode": "r",
   "file_extension": ".r",
   "mimetype": "text/x-r-source",
   "name": "R",
   "pygments_lexer": "r",
   "version": "3.6.1"
  }
 },
 "nbformat": 4,
 "nbformat_minor": 4
}
