{
 "cells": [
  {
   "cell_type": "markdown",
   "metadata": {},
   "source": [
    "# Exercise\n",
    "\n",
    "**(1)** Use the S&P500 and Apple data to design an optimal headging strategy for a long exposure on apple shares"
   ]
  },
  {
   "cell_type": "markdown",
   "metadata": {},
   "source": [
    "According to Brooks Brooks (2014) many authors consider that the goal of headging is to minimize the variance of the headged portfolio. Since the OLS estimator is the one that minimizes the sum of the squared error between the portfolio return and the estimated portfolio return (which is close to the variance), we can interpret the OLS estimator as the amount of units of the hedge asset that we need to buy/sell in order to hedge the portfolio. \n",
    "\n",
    "In our case, we assume that our portfolio consists of Apple shares, and we want to compoare a hedging strategy using the SP500 and the dow jones index."
   ]
  },
  {
   "cell_type": "code",
   "execution_count": 1,
   "metadata": {},
   "outputs": [
    {
     "name": "stderr",
     "output_type": "stream",
     "text": [
      "Warning message:\n",
      "\"package 'here' was built under R version 3.6.3\"here() starts at C:/Users/Daniel/Desktop/Daniel/codes/python/FGV_Financial_Econometrics\n"
     ]
    }
   ],
   "source": [
    "library(readxl)\n",
    "library(here)\n",
    "\n",
    "dados = read_excel(here(\"data\", \"Dados_aula2.xlsx\"), sheet='Planilha2')"
   ]
  },
  {
   "cell_type": "code",
   "execution_count": 2,
   "metadata": {},
   "outputs": [
    {
     "data": {
      "text/html": [
       "<table>\n",
       "<thead><tr><th scope=col>Data</th><th scope=col>DJIA</th><th scope=col>Apple</th><th scope=col>SP500</th></tr></thead>\n",
       "<tbody>\n",
       "\t<tr><td>1999-12-31</td><td>11497.12  </td><td>0.7932525 </td><td>1469.26   </td></tr>\n",
       "\t<tr><td>2000-01-03</td><td>11357.51  </td><td>0.8636567 </td><td>1455.22   </td></tr>\n",
       "\t<tr><td>2000-01-04</td><td>10997.93  </td><td>0.7908414 </td><td>1399.42   </td></tr>\n",
       "\t<tr><td>2000-01-05</td><td>11122.65  </td><td>0.8024147 </td><td>1402.11   </td></tr>\n",
       "\t<tr><td>2000-01-06</td><td>11253.26  </td><td>0.7329750 </td><td>1403.45   </td></tr>\n",
       "\t<tr><td>2000-01-07</td><td>11522.56  </td><td>0.7676949 </td><td>1441.47   </td></tr>\n",
       "</tbody>\n",
       "</table>\n"
      ],
      "text/latex": [
       "\\begin{tabular}{r|llll}\n",
       " Data & DJIA & Apple & SP500\\\\\n",
       "\\hline\n",
       "\t 1999-12-31 & 11497.12   & 0.7932525  & 1469.26   \\\\\n",
       "\t 2000-01-03 & 11357.51   & 0.8636567  & 1455.22   \\\\\n",
       "\t 2000-01-04 & 10997.93   & 0.7908414  & 1399.42   \\\\\n",
       "\t 2000-01-05 & 11122.65   & 0.8024147  & 1402.11   \\\\\n",
       "\t 2000-01-06 & 11253.26   & 0.7329750  & 1403.45   \\\\\n",
       "\t 2000-01-07 & 11522.56   & 0.7676949  & 1441.47   \\\\\n",
       "\\end{tabular}\n"
      ],
      "text/markdown": [
       "\n",
       "| Data | DJIA | Apple | SP500 |\n",
       "|---|---|---|---|\n",
       "| 1999-12-31 | 11497.12   | 0.7932525  | 1469.26    |\n",
       "| 2000-01-03 | 11357.51   | 0.8636567  | 1455.22    |\n",
       "| 2000-01-04 | 10997.93   | 0.7908414  | 1399.42    |\n",
       "| 2000-01-05 | 11122.65   | 0.8024147  | 1402.11    |\n",
       "| 2000-01-06 | 11253.26   | 0.7329750  | 1403.45    |\n",
       "| 2000-01-07 | 11522.56   | 0.7676949  | 1441.47    |\n",
       "\n"
      ],
      "text/plain": [
       "  Data       DJIA     Apple     SP500  \n",
       "1 1999-12-31 11497.12 0.7932525 1469.26\n",
       "2 2000-01-03 11357.51 0.8636567 1455.22\n",
       "3 2000-01-04 10997.93 0.7908414 1399.42\n",
       "4 2000-01-05 11122.65 0.8024147 1402.11\n",
       "5 2000-01-06 11253.26 0.7329750 1403.45\n",
       "6 2000-01-07 11522.56 0.7676949 1441.47"
      ]
     },
     "metadata": {},
     "output_type": "display_data"
    }
   ],
   "source": [
    "head(dados)"
   ]
  },
  {
   "cell_type": "code",
   "execution_count": 3,
   "metadata": {},
   "outputs": [
    {
     "name": "stderr",
     "output_type": "stream",
     "text": [
      "Warning message in diff(dados$Apple)/lag(dados$Apple):\n",
      "\"longer object length is not a multiple of shorter object length\"Warning message in diff(dados$SP500)/lag(dados$SP500):\n",
      "\"longer object length is not a multiple of shorter object length\"Warning message in diff(dados$DJIA)/lag(dados$DJIA):\n",
      "\"longer object length is not a multiple of shorter object length\""
     ]
    }
   ],
   "source": [
    "apple = (diff(dados$Apple)/lag(dados$Apple))*100\n",
    "snp = (diff(dados$SP500)/lag(dados$SP500))*100\n",
    "dj = (diff(dados$DJIA)/lag(dados$DJIA))*100"
   ]
  },
  {
   "cell_type": "markdown",
   "metadata": {},
   "source": [
    "## Model 1\n",
    "\n",
    "$$\n",
    "apple_t = \\alpha + \\beta sp500_t + \\epsilon_t\n",
    "$$"
   ]
  },
  {
   "cell_type": "code",
   "execution_count": 4,
   "metadata": {},
   "outputs": [
    {
     "data": {
      "text/plain": [
       "\n",
       "Call:\n",
       "lm(formula = apple ~ snp)\n",
       "\n",
       "Residuals:\n",
       "    Min      1Q  Median      3Q     Max \n",
       "-50.280  -0.926  -0.071   0.869  14.108 \n",
       "\n",
       "Coefficients:\n",
       "            Estimate Std. Error t value Pr(>|t|)    \n",
       "(Intercept)  0.10291    0.02957    3.48 0.000505 ***\n",
       "snp          1.13290    0.02355   48.10  < 2e-16 ***\n",
       "---\n",
       "Signif. codes:  0 '***' 0.001 '**' 0.01 '*' 0.05 '.' 0.1 ' ' 1\n",
       "\n",
       "Residual standard error: 2.138 on 5228 degrees of freedom\n",
       "Multiple R-squared:  0.3068,\tAdjusted R-squared:  0.3067 \n",
       "F-statistic:  2314 on 1 and 5228 DF,  p-value: < 2.2e-16\n"
      ]
     },
     "metadata": {},
     "output_type": "display_data"
    }
   ],
   "source": [
    "regressao_df = lm(apple ~ snp)\n",
    "summary(regressao_df)"
   ]
  },
  {
   "cell_type": "code",
   "execution_count": 19,
   "metadata": {},
   "outputs": [
    {
     "data": {
      "image/png": "[encoded data removed]",
      "text/plain": [
       "Plot with title \"Scatted Plot-least squared fitted for First Difference\""
      ]
     },
     "metadata": {},
     "output_type": "display_data"
    }
   ],
   "source": [
    "plot.default(snp, apple, col='darkblue')\n",
    "abline(coef(regressao_df), col='red')\n",
    "legend('topleft', legend=c(paste0('apple1 = ', round(regressao_df$coefficients[1], 3), ' + ', round(regressao_df$coefficients[2], 3), '*snp')), col=c('red'), pch=15)\n",
    "title('Scatted Plot-least squared fitted for First Difference')"
   ]
  },
  {
   "cell_type": "markdown",
   "metadata": {},
   "source": [
    "## Model 2\n",
    "\n",
    "$$\n",
    "apple_t = \\alpha + \\beta DJ_t + \\epsilon_t\n",
    "$$"
   ]
  },
  {
   "cell_type": "code",
   "execution_count": 6,
   "metadata": {},
   "outputs": [
    {
     "data": {
      "text/plain": [
       "\n",
       "Call:\n",
       "lm(formula = apple ~ dj)\n",
       "\n",
       "Residuals:\n",
       "    Min      1Q  Median      3Q     Max \n",
       "-50.254  -0.944  -0.054   0.927  14.212 \n",
       "\n",
       "Coefficients:\n",
       "            Estimate Std. Error t value Pr(>|t|)    \n",
       "(Intercept)  0.10411    0.03065   3.397 0.000686 ***\n",
       "dj           1.07481    0.02538  42.342  < 2e-16 ***\n",
       "---\n",
       "Signif. codes:  0 '***' 0.001 '**' 0.01 '*' 0.05 '.' 0.1 ' ' 1\n",
       "\n",
       "Residual standard error: 2.216 on 5228 degrees of freedom\n",
       "Multiple R-squared:  0.2554,\tAdjusted R-squared:  0.2552 \n",
       "F-statistic:  1793 on 1 and 5228 DF,  p-value: < 2.2e-16\n"
      ]
     },
     "metadata": {},
     "output_type": "display_data"
    }
   ],
   "source": [
    "regressao_df2 = lm(apple ~ dj)\n",
    "summary(regressao_df2)"
   ]
  },
  {
   "cell_type": "code",
   "execution_count": 24,
   "metadata": {},
   "outputs": [
    {
     "data": {
      "image/png": "[encoded data removed]",
      "text/plain": [
       "Plot with title \"Scatted Plot-least squared fitted for First Difference\""
      ]
     },
     "metadata": {},
     "output_type": "display_data"
    }
   ],
   "source": [
    "plot.default(dj, apple, col='darkblue')\n",
    "abline(coef(regressao_df2), col='red')\n",
    "legend('topleft', legend=c(paste0('apple = ', round(regressao_df2$coefficients[1], 3), ' + ', round(regressao_df2$coefficients[2], 3), '*dj')), col=c('red'), pch=15)\n",
    "title('Scatted Plot-least squared fitted for First Difference')"
   ]
  },
  {
   "cell_type": "code",
   "execution_count": 25,
   "metadata": {},
   "outputs": [
    {
     "data": {
      "text/html": [
       "'SSE apple vs snp: -2.31079044787919e-13'"
      ],
      "text/latex": [
       "'SSE apple vs snp: -2.31079044787919e-13'"
      ],
      "text/markdown": [
       "'SSE apple vs snp: -2.31079044787919e-13'"
      ],
      "text/plain": [
       "[1] \"SSE apple vs snp: -2.31079044787919e-13\""
      ]
     },
     "metadata": {},
     "output_type": "display_data"
    }
   ],
   "source": [
    "paste0('SSE apple vs snp: ', sum(regressao_df$residuals))"
   ]
  },
  {
   "cell_type": "code",
   "execution_count": 26,
   "metadata": {},
   "outputs": [
    {
     "data": {
      "text/html": [
       "'SSE apple vs snp: 1.56569202047763e-13'"
      ],
      "text/latex": [
       "'SSE apple vs snp: 1.56569202047763e-13'"
      ],
      "text/markdown": [
       "'SSE apple vs snp: 1.56569202047763e-13'"
      ],
      "text/plain": [
       "[1] \"SSE apple vs snp: 1.56569202047763e-13\""
      ]
     },
     "metadata": {},
     "output_type": "display_data"
    }
   ],
   "source": [
    "paste0('SSE apple vs dj: ', sum(regressao_df2$residuals))"
   ]
  },
  {
   "cell_type": "markdown",
   "metadata": {},
   "source": [
    "To evaluate the goodness of fit of the two models we can check for the scatter plots with the fitted line, the R2, and the sum of the squared errors (SSE). According to all three metrics, the SnP500 appears to be a better hedge for a portfolio that has only apple stocks.\n",
    "\n",
    "Since the Nasdaq is the tech oriented index of us stocks, it would be interesting to make the same exercise using it."
   ]
  },
  {
   "cell_type": "code",
   "execution_count": null,
   "metadata": {},
   "outputs": [],
   "source": []
  }
 ],
 "metadata": {
  "kernelspec": {
   "display_name": "R",
   "language": "R",
   "name": "ir"
  },
  "language_info": {
   "codemirror_mode": "r",
   "file_extension": ".r",
   "mimetype": "text/x-r-source",
   "name": "R",
   "pygments_lexer": "r",
   "version": "3.6.1"
  }
 },
 "nbformat": 4,
 "nbformat_minor": 4
}
