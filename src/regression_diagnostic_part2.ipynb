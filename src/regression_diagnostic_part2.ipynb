{
 "cells": [
  {
   "cell_type": "markdown",
   "metadata": {},
   "source": [
    "# Exercise - OLS violations  part 2\n",
    "\n",
    "**(1)** Test for violations of the following OLS assumption: $cov(u_t, u_{t-1})=0$\n",
    "> **(a)** Durbin and Watson (1951) test\n",
    "\n",
    "> **(b)** Breusch and Godfrey autocorrelation test\n",
    "\n",
    "**(2)** Propose corrections for violations of the assumption of no autocorrelation on the error terms:\n",
    "> **(a)** Compare the static vs dynamic model in terms of AIC and BIC\n",
    "\n",
    "**(3)** Test for violations of the full rank assumption on the matrix $(X^{'}X)$ - no multicolinearity assumption.\n",
    "\n",
    "**(4)** Test for violations of the parameter stability assumption:\n",
    "> **(a)** Chow Test\n"
   ]
  },
  {
   "cell_type": "code",
   "execution_count": 69,
   "metadata": {},
   "outputs": [],
   "source": [
    "library(here)\n",
    "library(readxl)\n",
    "library(car)\n",
    "library(lmtest)\n",
    "library(dplyr)\n",
    "library(plm)\n",
    "library(Hmisc)\n",
    "library(stats)\n",
    "library(strucchange)"
   ]
  },
  {
   "cell_type": "code",
   "execution_count": 70,
   "metadata": {},
   "outputs": [],
   "source": [
    "df = read_excel(here('src', 'data', 'fred.xls'))\n",
    "df1 = df"
   ]
  },
  {
   "cell_type": "code",
   "execution_count": 71,
   "metadata": {},
   "outputs": [
    {
     "data": {
      "image/png": "[encoded data removed]",
      "text/plain": [
       "plot without title"
      ]
     },
     "metadata": {},
     "output_type": "display_data"
    }
   ],
   "source": [
    "df = df %>% mutate(GS5=100*(log(GS5)-Lag(log(GS5), 1)), GS3=100*(log(GS3)-Lag(log(GS3), 1)))\n",
    "par(mfrow=c(2, 2))\n",
    "ts.plot(df1$GS5)\n",
    "ts.plot(df$GS5)\n",
    "ts.plot(df1$GS3)\n",
    "ts.plot(df$GS3)"
   ]
  },
  {
   "cell_type": "code",
   "execution_count": 72,
   "metadata": {},
   "outputs": [
    {
     "data": {
      "text/plain": [
       "\n",
       "Call:\n",
       "lm(formula = GS3 ~ GS5, data = df)\n",
       "\n",
       "Residuals:\n",
       "     Min       1Q   Median       3Q      Max \n",
       "-15.9574  -0.9263   0.0450   0.8492  12.9200 \n",
       "\n",
       "Coefficients:\n",
       "            Estimate Std. Error t value Pr(>|t|)    \n",
       "(Intercept)  0.04602    0.12474   0.369    0.712    \n",
       "GS5          1.15682    0.01597  72.458   <2e-16 ***\n",
       "---\n",
       "Signif. codes:  0 '***' 0.001 '**' 0.01 '*' 0.05 '.' 0.1 ' ' 1\n",
       "\n",
       "Residual standard error: 2.602 on 434 degrees of freedom\n",
       "  (1 observation deleted due to missingness)\n",
       "Multiple R-squared:  0.9236,\tAdjusted R-squared:  0.9235 \n",
       "F-statistic:  5250 on 1 and 434 DF,  p-value: < 2.2e-16\n"
      ]
     },
     "metadata": {},
     "output_type": "display_data"
    }
   ],
   "source": [
    "model = lm(GS3 ~ GS5, df)\n",
    "summary(model)"
   ]
  },
  {
   "cell_type": "markdown",
   "metadata": {},
   "source": [
    "## **(1)** Test for violations of the following OLS assumption: $cov(u_t, u_{t-1})=0$\n",
    "\n",
    "The consequences of ignoring autocorrelation when it is present are similar to those of ignoring heteroskedasticity. The OLS estimates are still unbiased, but they are not efficient nor consistent anymore (even in large sample sives). This means that the estimates of the standard errors are compromised, which implies that we should not trust on any statistic that uses it (i.e. p-values).\n"
   ]
  },
  {
   "cell_type": "markdown",
   "metadata": {},
   "source": [
    "### **(a)** Durbin and Watson (1951) test\n",
    "\n",
    "The DW is a test for first order autocorrelation of the residuals, that is, the relationship between the error term and its immediately previous value. In the context of regression model we have:\n",
    "\n",
    "$\n",
    "u_t = \\rho u_{t-1} + v_t \\quad v_t \\sim N(0, \\sigma^2)\n",
    "$\n",
    "\n",
    "The DW hypothesis formulation is given by:\n",
    "\n",
    "$\n",
    "H_0: \\rho=0\\\\\n",
    "H_1: \\rho \\neq 0\n",
    "$\n",
    "\n",
    "Note that its not necessary to run the above regression since the test statistic can be calculated using information available on the first fitted model. The test statistics is given by:\n",
    "\n",
    "$\n",
    "DW = \\frac{\\sum_{t=2}^{T}(\\hat{u}_t - \\hat{u}_{t-1})^2}{\\sum_{t=2}^{T}\\hat{u}_t^2}\n",
    "$\n",
    "\n",
    "\n",
    "The DW statistic does not follow traditional distribution like the chi-squared, t-dist, normal, or F. It has 2 critical values: an upper critical value given by $d_U$, and a lower critical value given by $d_L$, otherwise the result is inconclusive.\n",
    "\n",
    "In our case, we use the regression of the residuals to test the hypothesis."
   ]
  },
  {
   "cell_type": "code",
   "execution_count": 73,
   "metadata": {},
   "outputs": [
    {
     "data": {
      "text/plain": [
       "\n",
       "\tDurbin-Watson test\n",
       "\n",
       "data:  model\n",
       "DW = 1.5499, p-value = 1.18e-06\n",
       "alternative hypothesis: true autocorrelation is greater than 0\n"
      ]
     },
     "metadata": {},
     "output_type": "display_data"
    }
   ],
   "source": [
    "dwtest(model) "
   ]
  },
  {
   "cell_type": "markdown",
   "metadata": {},
   "source": [
    "The test statitics give us strong evidence that the null hypothesis of no first order autocorrelation has been violated."
   ]
  },
  {
   "cell_type": "markdown",
   "metadata": {},
   "source": [
    "### **(b)** Breusch and Godfrey autocorrelation test\n",
    "\n",
    "The hypothesis of the test is as follows:\n",
    "\n",
    "\n",
    "$H_0$: $\\epsilon_t$ is uncorrelated \n",
    "\n",
    "$H_1$: $\\epsilon_t$ is correlated up to order m\n",
    "$\n",
    "\n",
    "The test statistics is also based on the OLS residuals and is given by:\n",
    "\n",
    "$\n",
    "LM = T(\\sum_{j=1}^{m}r^2_j) \\quad where \\quad r_j = \\frac{\\sum_{t=j+1}^{T}(\\hat{\\epsilon}_t-\\hat{\\epsilon}_{t-1})^2}{\\sum_{t=1}^{T}\\hat{\\epsilon}^2_t}\n",
    "$\n",
    "\n",
    "Under the null hypothesis the LM statistics has a $\\chi^2(m)$ distribution.\n"
   ]
  },
  {
   "cell_type": "code",
   "execution_count": 74,
   "metadata": {},
   "outputs": [
    {
     "data": {
      "text/plain": [
       "\n",
       "\tBreusch-Godfrey test for serial correlation of order up to 4\n",
       "\n",
       "data:  model\n",
       "LM test = 34.319, df = 4, p-value = 6.41e-07\n"
      ]
     },
     "metadata": {},
     "output_type": "display_data"
    }
   ],
   "source": [
    "bgtest(model, order = 4)"
   ]
  },
  {
   "cell_type": "markdown",
   "metadata": {},
   "source": [
    "The test statitics give us strong evidence that the null hypothesis of no m-order autocorrelation has been violated."
   ]
  },
  {
   "cell_type": "markdown",
   "metadata": {},
   "source": [
    "## **(2)** Propose corrections for violations of the assumption of no autocorrelation on the error terms:\n",
    "\n",
    "The consequences of ignoring autocorrelation when it is present are similar to those of ignoring heteroskedasticity. The OLS estimates are still unbiased, but they are not efficient nor consistent anymore (even in large sample sives). This means that the estimates of the standard errors are compromised, which implies that we should not trust on any statistic that uses it (i.e. p-values).\n",
    "\n",
    "\n",
    "There are a couple of ways to deal with autocorrelated error terms:\n",
    "\n",
    "> 1. Cochrane-Orcutt procedure\n",
    "\n",
    "> 2. White correction\n",
    "\n",
    "> 3. Newey-West correction\n",
    "\n",
    "> 4. Dynamic model\n",
    "\n",
    "The first three solutions basically try to incorporate structure into the error terms by modifying the variance-covariance matrix, resulting in a GLS estimator. The last procedure is the easiest to implement and we will focus on that one.\n"
   ]
  },
  {
   "cell_type": "markdown",
   "metadata": {},
   "source": [
    "### **(a)** Compare the static vs dynamic model in terms of AIC and BIC"
   ]
  },
  {
   "cell_type": "code",
   "execution_count": 76,
   "metadata": {},
   "outputs": [],
   "source": [
    "df = df %>% mutate(GS3_l0 = GS3, GS3_l1 = Lag(GS3, 1),\n",
    "                   GS3_l2 = Lag(GS3, 2), GS3_l3 = Lag(GS3, 3),\n",
    "                   GS3_l4 = Lag(GS3, 4), GS3_l5 = Lag(GS3, 5))\n",
    "aic_list = c()\n",
    "bic_list = c()\n",
    "for (i in 0:5){\n",
    "    aic_list[i] = AIC(lm(as.formula(paste('GS3', paste0('GS3_l', toString(i)), sep = '~')), df))\n",
    "    bic_list[i] = BIC(lm(as.formula(paste('GS3', paste0('GS3_l', toString(i)), sep = '~')), df))\n",
    "}\n"
   ]
  },
  {
   "cell_type": "code",
   "execution_count": 77,
   "metadata": {},
   "outputs": [
    {
     "data": {
      "text/html": [
       "<table>\n",
       "<thead><tr><th scope=col></th><th scope=col>aic_list</th><th scope=col>bic_list</th></tr></thead>\n",
       "<tbody>\n",
       "\t<tr><td>0       </td><td>3174.548</td><td>3186.774</td></tr>\n",
       "\t<tr><td>1       </td><td>3183.730</td><td>3195.950</td></tr>\n",
       "\t<tr><td>2       </td><td>3173.761</td><td>3185.973</td></tr>\n",
       "\t<tr><td>3       </td><td>3164.696</td><td>3176.901</td></tr>\n",
       "\t<tr><td>4       </td><td>3161.896</td><td>3174.095</td></tr>\n",
       "</tbody>\n",
       "</table>\n"
      ],
      "text/latex": [
       "\\begin{tabular}{lll}\n",
       "  & aic\\_list & bic\\_list\\\\\n",
       "\\hline\n",
       "\t 0        & 3174.548 & 3186.774\\\\\n",
       "\t 1        & 3183.730 & 3195.950\\\\\n",
       "\t 2        & 3173.761 & 3185.973\\\\\n",
       "\t 3        & 3164.696 & 3176.901\\\\\n",
       "\t 4        & 3161.896 & 3174.095\\\\\n",
       "\\end{tabular}\n"
      ],
      "text/markdown": [
       "\n",
       "|  | aic_list | bic_list |\n",
       "|---|---|---|\n",
       "| 0        | 3174.548 | 3186.774 |\n",
       "| 1        | 3183.730 | 3195.950 |\n",
       "| 2        | 3173.761 | 3185.973 |\n",
       "| 3        | 3164.696 | 3176.901 |\n",
       "| 4        | 3161.896 | 3174.095 |\n",
       "\n"
      ],
      "text/plain": [
       "       aic_list bic_list\n",
       "[1,] 0 3174.548 3186.774\n",
       "[2,] 1 3183.730 3195.950\n",
       "[3,] 2 3173.761 3185.973\n",
       "[4,] 3 3164.696 3176.901\n",
       "[5,] 4 3161.896 3174.095"
      ]
     },
     "metadata": {},
     "output_type": "display_data"
    }
   ],
   "source": [
    "cbind( c(0,1,2,3,4),aic_list, bic_list)"
   ]
  },
  {
   "cell_type": "markdown",
   "metadata": {},
   "source": [
    "We tested for 0 up to 5 lags in the regression and get the aic and bic values. We see that both aic and bic has its minimum with lag=4. Therefore, choose to include the forth lag in the model and repeat the BG autocorrelation test."
   ]
  },
  {
   "cell_type": "code",
   "execution_count": 78,
   "metadata": {},
   "outputs": [
    {
     "data": {
      "text/plain": [
       "\n",
       "Call:\n",
       "lm(formula = GS3 ~ GS5 + GS3_l4, data = df)\n",
       "\n",
       "Residuals:\n",
       "     Min       1Q   Median       3Q      Max \n",
       "-15.5693  -0.9320   0.0382   0.8967  12.6243 \n",
       "\n",
       "Coefficients:\n",
       "            Estimate Std. Error t value Pr(>|t|)    \n",
       "(Intercept)  0.02966    0.12547   0.236   0.8133    \n",
       "GS5          1.15349    0.01604  71.899   <2e-16 ***\n",
       "GS3_l4      -0.02877    0.01335  -2.155   0.0317 *  \n",
       "---\n",
       "Signif. codes:  0 '***' 0.001 '**' 0.01 '*' 0.05 '.' 0.1 ' ' 1\n",
       "\n",
       "Residual standard error: 2.601 on 429 degrees of freedom\n",
       "  (5 observations deleted due to missingness)\n",
       "Multiple R-squared:  0.9245,\tAdjusted R-squared:  0.9241 \n",
       "F-statistic:  2627 on 2 and 429 DF,  p-value: < 2.2e-16\n"
      ]
     },
     "metadata": {},
     "output_type": "display_data"
    }
   ],
   "source": [
    "model1 = lm(GS3 ~ GS5 + GS3_l4, df)\n",
    "summary(model1)"
   ]
  },
  {
   "cell_type": "code",
   "execution_count": 79,
   "metadata": {},
   "outputs": [
    {
     "name": "stdout",
     "output_type": "stream",
     "text": [
      "[1] \"AIC static model: 2075.07691330925 BIC static model: 2087.3098400393AIC dynamic model: 2056.98178395981BIC dynamic model: 2073.25548631279\"\n"
     ]
    }
   ],
   "source": [
    "print(paste0('AIC static model: ', AIC(model), ' BIC static model: ', BIC(model), 'AIC dynamic model: ', AIC(model1), 'BIC dynamic model: ', BIC(model1)))"
   ]
  },
  {
   "cell_type": "code",
   "execution_count": 80,
   "metadata": {},
   "outputs": [
    {
     "data": {
      "text/plain": [
       "\n",
       "\tBreusch-Godfrey test for serial correlation of order up to 4\n",
       "\n",
       "data:  model1\n",
       "LM test = 33.857, df = 4, p-value = 7.971e-07\n"
      ]
     },
     "metadata": {},
     "output_type": "display_data"
    }
   ],
   "source": [
    "bgtest(model1, order = 4)"
   ]
  },
  {
   "cell_type": "markdown",
   "metadata": {},
   "source": [
    "Note that by simply including the forth autoregressive term of the dependent variable into the regression does not solve for the serial autocorrelation, but in terms of BIC and AIC the dynamic model is better than the static one.\n",
    "\n",
    "\n",
    "The persistence in the violation of the no serial autocorrelation hypothesis even when including the forth autocorrelated term can be due to a number os reasons:\n",
    "\n",
    "> 1. The order of the lagged series was wornlgy chosen or multiple lags should be used\n",
    "\n",
    "> 2. Omission of relevant exogenous variables, which are themselves autocorrelated\n",
    "\n",
    "> 3. Unparameterised seasonality\n",
    "\n",
    "> 4. Inappropriate functional form\n"
   ]
  },
  {
   "cell_type": "markdown",
   "metadata": {},
   "source": [
    "## **(3)** Test for violations of the full rank assumption on the matrix $(X^{'}X)$ - no multicolinearity assumption.\n",
    "\n",
    "An implicit assumption of the OLS estimator that guarantees the invertibility of $(X^{'}X)$ is that this matrix must be of full rank, that is, all variables in $X$ must be orthogonal.\n"
   ]
  },
  {
   "cell_type": "code",
   "execution_count": 81,
   "metadata": {},
   "outputs": [
    {
     "data": {
      "text/html": [
       "<table>\n",
       "<thead><tr><th></th><th scope=col>GS3</th><th scope=col>GS5</th><th scope=col>GS3_l4</th></tr></thead>\n",
       "<tbody>\n",
       "\t<tr><th scope=row>GS3</th><td> 1.0000000 </td><td> 0.96106628</td><td>-0.12135884</td></tr>\n",
       "\t<tr><th scope=row>GS5</th><td> 0.9610663 </td><td> 1.00000000</td><td>-0.09666532</td></tr>\n",
       "\t<tr><th scope=row>GS3_l4</th><td>-0.1213588 </td><td>-0.09666532</td><td> 1.00000000</td></tr>\n",
       "</tbody>\n",
       "</table>\n"
      ],
      "text/latex": [
       "\\begin{tabular}{r|lll}\n",
       "  & GS3 & GS5 & GS3\\_l4\\\\\n",
       "\\hline\n",
       "\tGS3 &  1.0000000  &  0.96106628 & -0.12135884\\\\\n",
       "\tGS5 &  0.9610663  &  1.00000000 & -0.09666532\\\\\n",
       "\tGS3\\_l4 & -0.1213588  & -0.09666532 &  1.00000000\\\\\n",
       "\\end{tabular}\n"
      ],
      "text/markdown": [
       "\n",
       "| <!--/--> | GS3 | GS5 | GS3_l4 |\n",
       "|---|---|---|---|\n",
       "| GS3 |  1.0000000  |  0.96106628 | -0.12135884 |\n",
       "| GS5 |  0.9610663  |  1.00000000 | -0.09666532 |\n",
       "| GS3_l4 | -0.1213588  | -0.09666532 |  1.00000000 |\n",
       "\n"
      ],
      "text/plain": [
       "       GS3        GS5         GS3_l4     \n",
       "GS3     1.0000000  0.96106628 -0.12135884\n",
       "GS5     0.9610663  1.00000000 -0.09666532\n",
       "GS3_l4 -0.1213588 -0.09666532  1.00000000"
      ]
     },
     "metadata": {},
     "output_type": "display_data"
    }
   ],
   "source": [
    "x = as.data.frame(cbind(df$GS3, df$GS5, df$GS3_l4))\n",
    "colnames(x) = c('GS3', 'GS5', 'GS3_l4')\n",
    "cor(x, use = 'pairwise.complete.obs')"
   ]
  },
  {
   "cell_type": "markdown",
   "metadata": {},
   "source": [
    "Note that the 3-month trasury rate has an almost perfect multicolinearity"
   ]
  },
  {
   "cell_type": "markdown",
   "metadata": {},
   "source": [
    "## **(4)** Test for violations of the parameter stability assumption:\n",
    "### **(a)** Chow Test\n",
    "\n",
    "Assume that we have splitted a sample o size $T$ into $T_1$ and $T_2$. Let us consider the following set of hypothesis:\n",
    "\n",
    "$\n",
    "H_0: H^{'}_0 \\cup H^{''}_0 \\quad where \\quad H^{'}_0: \\beta_1 = \\beta_2 \\quad and \\quad H^{''}_0: \\sigma^2_1 = \\sigma^2_2\\\\\n",
    "H_1: H^{'}_1 \\cup H^{''}_1 \\quad where \\quad H^{'}_1: \\beta_1 \\neq \\beta_2 \\quad and \\quad H^{''}_1: \\sigma^2_1 \\neq \\sigma^2_2\\\\\n",
    "$\n",
    "\n",
    "If $T_2 > k$, the procedure is to estimate three models, one in the whole sample $T$, another in the first sample $T_1$, and finally the last one in the sample $T_2$. Let $RSS_j$ be the sum of the squared residuals, where $j \\in \\{T, T_1, T_2\\}$, then the Chow test is given by:\n",
    "\n",
    "$\n",
    "CH_1 = (\\frac{RSS_T - RSS_{T_1} - RSS_{T_2}}{RSS_{T_1} + RSS_{T_2}}) \\frac{T-2k}{k}\n",
    "$\n",
    "\n",
    "Under the null we have that $CH_1 \\sim F(k, T-2k)$.\n",
    "\n",
    "The argument of the test is that, if the parameters are stable between samples, then $RSS_T$ will probably be close to $RSS_{T_1} + RSS_{T_2}$, otherwise the paremeters will be unstable.\n"
   ]
  },
  {
   "cell_type": "code",
   "execution_count": 82,
   "metadata": {},
   "outputs": [
    {
     "data": {
      "text/plain": [
       "\n",
       "\tChow test\n",
       "\n",
       "data:  GS3 ~ GS5 + GS3_l4\n",
       "F = 2.2061, p-value = 0.08675\n"
      ]
     },
     "metadata": {},
     "output_type": "display_data"
    }
   ],
   "source": [
    "sctest(GS3 ~ GS5 + GS3_l4, data = df, type = 'Chow', from = 50, to = 55)"
   ]
  },
  {
   "cell_type": "markdown",
   "metadata": {},
   "source": [
    "Using the Chow test statistics we can take the significance level up to 8% more and still not reject the null hypothesis of parameter stability. Despite this value been relatively low, it is not lower than the typicall significance value threshold (0.05)"
   ]
  },
  {
   "cell_type": "code",
   "execution_count": null,
   "metadata": {},
   "outputs": [],
   "source": []
  }
 ],
 "metadata": {
  "kernelspec": {
   "display_name": "R",
   "language": "R",
   "name": "ir"
  },
  "language_info": {
   "codemirror_mode": "r",
   "file_extension": ".r",
   "mimetype": "text/x-r-source",
   "name": "R",
   "pygments_lexer": "r",
   "version": "3.6.1"
  }
 },
 "nbformat": 4,
 "nbformat_minor": 4
}
