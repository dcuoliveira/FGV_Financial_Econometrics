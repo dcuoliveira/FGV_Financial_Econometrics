{
 "cells": [
  {
   "cell_type": "markdown",
   "metadata": {},
   "source": [
    "# Exercise - OLS violations\n",
    "\n",
    "\n",
    "### Erich Ferreira, Caue Ribeiro, Daniel Oliveira e Elisane Baecsktroem\n",
    "\n",
    "\n",
    "**(1)** Test for violations of the first OLS assumption: $E[u_t]=0$\n",
    "\n",
    "**(2)** Apply the possible solutions to violtations of the first OLS assumtions:\n",
    "> **(a)** Use constant coefficient in the linear regression\n",
    "\n",
    "**(3)** Test for violations of the homoskedasticity assumption $E[u^2_t]=\\sigma^2$:\n",
    "> **(a)** Goldfeld-Quandt (1965) test\n",
    "\n",
    "> **(b)** White (1980) test, which has two implementations\n",
    ">> **(i)** Lagrange multiplier test\n",
    "\n",
    "**(4)** Apply the possible solutions to heteroskedasticity:\n",
    "> **(a)** Transform the variables into logs\n",
    "\n",
    "> **(b)** Apply the White (1980) heteroskedasticity correction for the standard errors\n",
    "\n",
    "**(5)** Test for violations of the third OLS assumption: $cov(u_t, u_{t-1})=0$"
   ]
  },
  {
   "cell_type": "code",
   "execution_count": 13,
   "metadata": {},
   "outputs": [
    {
     "name": "stderr",
     "output_type": "stream",
     "text": [
      "Warning message:\n",
      "\"package 'Hmisc' was built under R version 3.6.3\"Loading required package: lattice\n",
      "Loading required package: survival\n",
      "Warning message:\n",
      "\"package 'survival' was built under R version 3.6.3\"Loading required package: Formula\n",
      "Warning message:\n",
      "\"package 'Formula' was built under R version 3.6.3\"Loading required package: ggplot2\n",
      "Registered S3 methods overwritten by 'ggplot2':\n",
      "  method         from \n",
      "  [.quosures     rlang\n",
      "  c.quosures     rlang\n",
      "  print.quosures rlang\n",
      "\n",
      "Attaching package: 'Hmisc'\n",
      "\n",
      "The following objects are masked from 'package:dplyr':\n",
      "\n",
      "    src, summarize\n",
      "\n",
      "The following objects are masked from 'package:base':\n",
      "\n",
      "    format.pval, units\n",
      "\n"
     ]
    }
   ],
   "source": [
    "rm(list=ls())\n",
    "library(dplyr)\n",
    "library(here)\n",
    "library(readxl)\n",
    "library(car)\n",
    "library(lmtest)\n",
    "library(dplyr)\n",
    "library(plm)\n",
    "library(Hmisc)"
   ]
  },
  {
   "cell_type": "code",
   "execution_count": 19,
   "metadata": {},
   "outputs": [],
   "source": [
    "df = read_excel(here('src', 'data', 'fred.xls'))"
   ]
  },
  {
   "cell_type": "code",
   "execution_count": 20,
   "metadata": {},
   "outputs": [
    {
     "data": {
      "text/html": [
       "<ol class=list-inline>\n",
       "\t<li>437</li>\n",
       "\t<li>7</li>\n",
       "</ol>\n"
      ],
      "text/latex": [
       "\\begin{enumerate*}\n",
       "\\item 437\n",
       "\\item 7\n",
       "\\end{enumerate*}\n"
      ],
      "text/markdown": [
       "1. 437\n",
       "2. 7\n",
       "\n",
       "\n"
      ],
      "text/plain": [
       "[1] 437   7"
      ]
     },
     "metadata": {},
     "output_type": "display_data"
    }
   ],
   "source": [
    "dim(df)"
   ]
  },
  {
   "cell_type": "code",
   "execution_count": 21,
   "metadata": {},
   "outputs": [
    {
     "data": {
      "image/png": "[encoded data removed]",
      "text/plain": [
       "plot without title"
      ]
     },
     "metadata": {},
     "output_type": "display_data"
    }
   ],
   "source": [
    "par(mfrow=c(2, 1))\n",
    "ts.plot(df$GS5)\n",
    "ts.plot(df$GS3)"
   ]
  },
  {
   "cell_type": "code",
   "execution_count": 22,
   "metadata": {},
   "outputs": [
    {
     "data": {
      "text/html": [
       "<table>\n",
       "<thead><tr><th scope=col>Date</th><th scope=col>GS3</th><th scope=col>GS1</th><th scope=col>GS10</th><th scope=col>GS5</th><th scope=col>GS3M</th><th scope=col>GS6M</th></tr></thead>\n",
       "<tbody>\n",
       "\t<tr><td>1982-01-01</td><td>        NA</td><td>14.32     </td><td>14.59     </td><td>        NA</td><td>12.92     </td><td>13.90     </td></tr>\n",
       "\t<tr><td>1982-02-01</td><td> 0.6128667</td><td>14.73     </td><td>14.43     </td><td>-0.7536840</td><td>14.28     </td><td>14.81     </td></tr>\n",
       "\t<tr><td>1982-03-01</td><td>-4.1585995</td><td>13.95     </td><td>13.86     </td><td>-3.9275765</td><td>13.31     </td><td>13.83     </td></tr>\n",
       "\t<tr><td>1982-04-01</td><td> 0.3532338</td><td>13.98     </td><td>13.87     </td><td> 0.1429626</td><td>13.34     </td><td>13.87     </td></tr>\n",
       "\t<tr><td>1982-05-01</td><td>-2.9340197</td><td>13.34     </td><td>13.62     </td><td>-1.8018506</td><td>12.71     </td><td>13.13     </td></tr>\n",
       "\t<tr><td>1982-06-01</td><td> 5.0276009</td><td>14.07     </td><td>14.30     </td><td> 4.8270570</td><td>13.08     </td><td>13.76     </td></tr>\n",
       "</tbody>\n",
       "</table>\n"
      ],
      "text/latex": [
       "\\begin{tabular}{r|lllllll}\n",
       " Date & GS3 & GS1 & GS10 & GS5 & GS3M & GS6M\\\\\n",
       "\\hline\n",
       "\t 1982-01-01 &         NA & 14.32      & 14.59      &         NA & 12.92      & 13.90     \\\\\n",
       "\t 1982-02-01 &  0.6128667 & 14.73      & 14.43      & -0.7536840 & 14.28      & 14.81     \\\\\n",
       "\t 1982-03-01 & -4.1585995 & 13.95      & 13.86      & -3.9275765 & 13.31      & 13.83     \\\\\n",
       "\t 1982-04-01 &  0.3532338 & 13.98      & 13.87      &  0.1429626 & 13.34      & 13.87     \\\\\n",
       "\t 1982-05-01 & -2.9340197 & 13.34      & 13.62      & -1.8018506 & 12.71      & 13.13     \\\\\n",
       "\t 1982-06-01 &  5.0276009 & 14.07      & 14.30      &  4.8270570 & 13.08      & 13.76     \\\\\n",
       "\\end{tabular}\n"
      ],
      "text/markdown": [
       "\n",
       "| Date | GS3 | GS1 | GS10 | GS5 | GS3M | GS6M |\n",
       "|---|---|---|---|---|---|---|\n",
       "| 1982-01-01 |         NA | 14.32      | 14.59      |         NA | 12.92      | 13.90      |\n",
       "| 1982-02-01 |  0.6128667 | 14.73      | 14.43      | -0.7536840 | 14.28      | 14.81      |\n",
       "| 1982-03-01 | -4.1585995 | 13.95      | 13.86      | -3.9275765 | 13.31      | 13.83      |\n",
       "| 1982-04-01 |  0.3532338 | 13.98      | 13.87      |  0.1429626 | 13.34      | 13.87      |\n",
       "| 1982-05-01 | -2.9340197 | 13.34      | 13.62      | -1.8018506 | 12.71      | 13.13      |\n",
       "| 1982-06-01 |  5.0276009 | 14.07      | 14.30      |  4.8270570 | 13.08      | 13.76      |\n",
       "\n"
      ],
      "text/plain": [
       "  Date       GS3        GS1   GS10  GS5        GS3M  GS6M \n",
       "1 1982-01-01         NA 14.32 14.59         NA 12.92 13.90\n",
       "2 1982-02-01  0.6128667 14.73 14.43 -0.7536840 14.28 14.81\n",
       "3 1982-03-01 -4.1585995 13.95 13.86 -3.9275765 13.31 13.83\n",
       "4 1982-04-01  0.3532338 13.98 13.87  0.1429626 13.34 13.87\n",
       "5 1982-05-01 -2.9340197 13.34 13.62 -1.8018506 12.71 13.13\n",
       "6 1982-06-01  5.0276009 14.07 14.30  4.8270570 13.08 13.76"
      ]
     },
     "metadata": {},
     "output_type": "display_data"
    }
   ],
   "source": [
    "df = df %>% mutate(GS5=100*(log(GS5)-Lag(log(GS5), 1)), GS3=100*(log(GS3)-Lag(log(GS3), 1)))\n",
    "head(df)"
   ]
  },
  {
   "cell_type": "code",
   "execution_count": 23,
   "metadata": {},
   "outputs": [
    {
     "data": {
      "image/png": "[encoded data removed]",
      "text/plain": [
       "plot without title"
      ]
     },
     "metadata": {},
     "output_type": "display_data"
    }
   ],
   "source": [
    "par(mfrow=c(2, 1))\n",
    "ts.plot(df$GS5)\n",
    "ts.plot(df$GS3)"
   ]
  },
  {
   "cell_type": "markdown",
   "metadata": {},
   "source": [
    "**(1)** Test for violations of the first OLS assumption: $E[u_t]=0$\n",
    "\n",
    "To test for violations of the first OLS assumtion, we estimate the linear model without including an intercept."
   ]
  },
  {
   "cell_type": "markdown",
   "metadata": {},
   "source": [
    "### Model 1a: GS3 ~ intercept + GS5"
   ]
  },
  {
   "cell_type": "code",
   "execution_count": 29,
   "metadata": {},
   "outputs": [
    {
     "data": {
      "text/plain": [
       "\n",
       "Call:\n",
       "lm(formula = GS3 ~ GS5, data = df)\n",
       "\n",
       "Residuals:\n",
       "     Min       1Q   Median       3Q      Max \n",
       "-15.9574  -0.9263   0.0450   0.8492  12.9200 \n",
       "\n",
       "Coefficients:\n",
       "            Estimate Std. Error t value Pr(>|t|)    \n",
       "(Intercept)  0.04602    0.12474   0.369    0.712    \n",
       "GS5          1.15682    0.01597  72.458   <2e-16 ***\n",
       "---\n",
       "Signif. codes:  0 '***' 0.001 '**' 0.01 '*' 0.05 '.' 0.1 ' ' 1\n",
       "\n",
       "Residual standard error: 2.602 on 434 degrees of freedom\n",
       "  (1 observation deleted due to missingness)\n",
       "Multiple R-squared:  0.9236,\tAdjusted R-squared:  0.9235 \n",
       "F-statistic:  5250 on 1 and 434 DF,  p-value: < 2.2e-16\n"
      ]
     },
     "metadata": {},
     "output_type": "display_data"
    }
   ],
   "source": [
    "model1 = lm(GS3 ~ GS5, df)\n",
    "summary(model1)"
   ]
  },
  {
   "cell_type": "markdown",
   "metadata": {},
   "source": [
    "### Model 1b: GS3 ~ GS5"
   ]
  },
  {
   "cell_type": "code",
   "execution_count": 31,
   "metadata": {},
   "outputs": [
    {
     "data": {
      "text/plain": [
       "\n",
       "Call:\n",
       "lm(formula = GS3 ~ GS5 - 1, data = df)\n",
       "\n",
       "Residuals:\n",
       "     Min       1Q   Median       3Q      Max \n",
       "-15.9129  -0.8797   0.0902   0.8940  12.9543 \n",
       "\n",
       "Coefficients:\n",
       "    Estimate Std. Error t value Pr(>|t|)    \n",
       "GS5  1.15653    0.01593    72.6   <2e-16 ***\n",
       "---\n",
       "Signif. codes:  0 '***' 0.001 '**' 0.01 '*' 0.05 '.' 0.1 ' ' 1\n",
       "\n",
       "Residual standard error: 2.599 on 435 degrees of freedom\n",
       "  (1 observation deleted due to missingness)\n",
       "Multiple R-squared:  0.9238,\tAdjusted R-squared:  0.9236 \n",
       "F-statistic:  5270 on 1 and 435 DF,  p-value: < 2.2e-16\n"
      ]
     },
     "metadata": {},
     "output_type": "display_data"
    }
   ],
   "source": [
    "model1_without_intercept = lm(GS3 ~ GS5 -1, df)\n",
    "summary(model1_without_intercept)"
   ]
  },
  {
   "cell_type": "code",
   "execution_count": 32,
   "metadata": {},
   "outputs": [
    {
     "data": {
      "image/png": "[encoded data removed]",
      "text/plain": [
       "Plot with title \"Residuals: GS3 ~ GS5\""
      ]
     },
     "metadata": {},
     "output_type": "display_data"
    }
   ],
   "source": [
    "par(mfrow=c(2,1))\n",
    "ts.plot(model1$residuals)\n",
    "title('Residuals: GS3 ~ intercept +  GS5')\n",
    "ts.plot(model1_without_intercept$residuals)\n",
    "title('Residuals: GS3 ~ GS5')"
   ]
  },
  {
   "cell_type": "code",
   "execution_count": 33,
   "metadata": {},
   "outputs": [
    {
     "name": "stdout",
     "output_type": "stream",
     "text": [
      "[1] \"Mean of the residuals of the first model: -4.64387289811619e-17Mean of the residuals of the second model: 0.0459145951590789\"\n"
     ]
    }
   ],
   "source": [
    "print(paste0('Mean of the residuals of the first model: ', mean(model1$residuals), 'Mean of the residuals of the second model: ', mean(model1_without_intercept$residuals)))"
   ]
  },
  {
   "cell_type": "markdown",
   "metadata": {},
   "source": [
    "The analysis of the residuals of the model wiht/without intercept (ts plot and mean) appears to indicate that the first hypothesis is not violated.\n",
    "\n",
    "Since we do not have any good reason to exclude the intercept, we choose to include it."
   ]
  },
  {
   "cell_type": "markdown",
   "metadata": {},
   "source": [
    "**(2)** Apply the possible solutions to violtations of the first OLS assumtions:\n",
    "> **(a)** Use constant coefficient in the linear regression"
   ]
  },
  {
   "cell_type": "markdown",
   "metadata": {},
   "source": [
    "### Model 1: GS3 ~ intercept + GS5"
   ]
  },
  {
   "cell_type": "code",
   "execution_count": 35,
   "metadata": {},
   "outputs": [
    {
     "data": {
      "text/plain": [
       "\n",
       "Call:\n",
       "lm(formula = GS3 ~ GS5, data = df)\n",
       "\n",
       "Residuals:\n",
       "     Min       1Q   Median       3Q      Max \n",
       "-15.9574  -0.9263   0.0450   0.8492  12.9200 \n",
       "\n",
       "Coefficients:\n",
       "            Estimate Std. Error t value Pr(>|t|)    \n",
       "(Intercept)  0.04602    0.12474   0.369    0.712    \n",
       "GS5          1.15682    0.01597  72.458   <2e-16 ***\n",
       "---\n",
       "Signif. codes:  0 '***' 0.001 '**' 0.01 '*' 0.05 '.' 0.1 ' ' 1\n",
       "\n",
       "Residual standard error: 2.602 on 434 degrees of freedom\n",
       "  (1 observation deleted due to missingness)\n",
       "Multiple R-squared:  0.9236,\tAdjusted R-squared:  0.9235 \n",
       "F-statistic:  5250 on 1 and 434 DF,  p-value: < 2.2e-16\n"
      ]
     },
     "metadata": {},
     "output_type": "display_data"
    }
   ],
   "source": [
    "model1 = lm(GS3 ~ GS5, df)\n",
    "summary(model1)"
   ]
  },
  {
   "cell_type": "markdown",
   "metadata": {},
   "source": [
    "**(3)** Test for violations of the homoskedasticity assumption $E[u^2_t]=\\sigma^2$:\n",
    "> **(a)** Goldfeld-Quandt (1965) test"
   ]
  },
  {
   "cell_type": "markdown",
   "metadata": {},
   "source": [
    "Assume that we have a sample o f size T, which in our case is T=4868. The Goldfeld-Quandt test consists in splitting the sample into two parts, T1 and T2. The linear regression model is estimated in each of the samples, and the residual variances are calulated. \n",
    "\n",
    "The hypothesis of the test is as follows:\n",
    "\n",
    "$\n",
    "H_0: \\sigma^2_1 = \\sigma^2_2 \\\\\n",
    "H_1: \\sigma^2_1 \\neq \\sigma^2_2\n",
    "$\n",
    "\n",
    "The test statistics, denoted GQ, is given by:\n",
    "\n",
    "$\n",
    "GQ = \\frac{max(s^2_1, s^2_2)}{min(s^2_1, s^2_2)} \\sim F(T_1-k, T_2-k)\n",
    "$\n",
    "\n",
    "Where:\n",
    "\n",
    "$\n",
    "s^2_1 = \\frac{\\hat{u}^{'}_1\\hat{u}_1}{T_1-k} \\quad s^2_2 = \\frac{\\hat{u}^{'}_2\\hat{u}_2}{T_2-k} \n",
    "$\n"
   ]
  },
  {
   "cell_type": "markdown",
   "metadata": {},
   "source": [
    "### Model 1: GS3 ~ intercept + GS5"
   ]
  },
  {
   "cell_type": "code",
   "execution_count": 36,
   "metadata": {},
   "outputs": [
    {
     "data": {
      "text/plain": [
       "\n",
       "\tGoldfeld-Quandt test\n",
       "\n",
       "data:  df$GS3 ~ df$GS5\n",
       "GQ = 19.819, df1 = 216, df2 = 216, p-value < 2.2e-16\n",
       "alternative hypothesis: variance changes from segment 1 to 2\n"
      ]
     },
     "metadata": {},
     "output_type": "display_data"
    }
   ],
   "source": [
    "gqtest(df$GS3 ~ df$GS5, alternative = 'two.sided')"
   ]
  },
  {
   "cell_type": "markdown",
   "metadata": {},
   "source": [
    "Note that the test statistics provide us strong evidence that we can reject the null with a low probability of type I error. Therefore, we can strongly reject the null hypothesis of homoskedasticity."
   ]
  },
  {
   "cell_type": "markdown",
   "metadata": {},
   "source": [
    "> **(b)** White (1980) test, which has two implementations"
   ]
  },
  {
   "cell_type": "markdown",
   "metadata": {},
   "source": [
    "The white test consists of a two-step procedure. First estimate a linear regression model (assuming two independent variables):\n",
    "\n",
    "$\n",
    "y_t = \\beta_1 + \\beta_2 x_{2,t} + \\beta_3 x_{3,t} + u_t\n",
    "$\n",
    "\n",
    "Second, run the auxiliary regression model given by:\n",
    "\n",
    "$\n",
    "\\hat{u}^2_t = \\alpha_1 + \\alpha_2 x_{2,t} + \\alpha_3 x_{3,t} + \\alpha_4 x^2_{2,t} + \\alpha_5 x^2_{3,t} + \\alpha_6 x_{2,t}x_{3,t} + v_t\n",
    "$\n",
    "\n",
    "Given the auxiliary regression, the test can be conducted using two different approaches:"
   ]
  },
  {
   "cell_type": "markdown",
   "metadata": {},
   "source": [
    "> **(i)** Lagrange multiplier test\n",
    "\n",
    "The Lagrange multiplier test is an easy implementation of the White test which consists of the following hypothesis:\n",
    "\n",
    "$\n",
    "H_0: \\sigma^2_t = \\sigma^2 \\\\\n",
    "H_1: \\sigma^2_t = \\mathcal{f}(\\mathbf{x}, \\mathbf{z}; \\delta) \n",
    "$\n",
    "\n",
    "where $\\mathbf{x}$ is a vector of independent variables, $\\mathbf{z}$ is a vector of the interations between independent variables, and $\\delta$ is a vector of coefficients including the interation coefficients.\n",
    "\n",
    "The test statistics, denoted W, is given by:\n",
    "\n",
    "$\n",
    "W = T*R^2 \\sim \\chi^2(m)\n",
    "$\n",
    "\n",
    "where T is the sample size, and $R^2$ is the coefficient of determination. The statistics $W$ follows a qui-squared distribution with $m$ degress f freedom, where $m$ is the number of regressors in the auxiliary model."
   ]
  },
  {
   "cell_type": "markdown",
   "metadata": {},
   "source": [
    "### Auxiliary model 1"
   ]
  },
  {
   "cell_type": "code",
   "execution_count": 37,
   "metadata": {},
   "outputs": [
    {
     "name": "stderr",
     "output_type": "stream",
     "text": [
      "Warning message in cbind(model1$residuals^2, df$GS3, df$GS3^2, df$GS5, df$GS5^2):\n",
      "\"number of rows of result is not a multiple of vector length (arg 1)\""
     ]
    },
    {
     "data": {
      "text/plain": [
       "\n",
       "Call:\n",
       "lm(formula = resid ~ GS3 + GS3_2 + GS5 + GS5_2, data = df_white1)\n",
       "\n",
       "Residuals:\n",
       "    Min      1Q  Median      3Q     Max \n",
       "-44.039  -5.555  -4.317  -2.372 240.241 \n",
       "\n",
       "Coefficients:\n",
       "              Estimate Std. Error t value Pr(>|t|)    \n",
       "(Intercept)  5.0937478  1.0414946   4.891 1.42e-06 ***\n",
       "GS3         -0.5038243  0.3826392  -1.317   0.1886    \n",
       "GS3_2        0.0177415  0.0097920   1.812   0.0707 .  \n",
       "GS5          0.2775924  0.4569330   0.608   0.5438    \n",
       "GS5_2       -0.0002715  0.0139751  -0.019   0.9845    \n",
       "---\n",
       "Signif. codes:  0 '***' 0.001 '**' 0.01 '*' 0.05 '.' 0.1 ' ' 1\n",
       "\n",
       "Residual standard error: 20.25 on 431 degrees of freedom\n",
       "  (1 observation deleted due to missingness)\n",
       "Multiple R-squared:  0.06396,\tAdjusted R-squared:  0.05527 \n",
       "F-statistic: 7.362 on 4 and 431 DF,  p-value: 9.64e-06\n"
      ]
     },
     "metadata": {},
     "output_type": "display_data"
    }
   ],
   "source": [
    "df_white1 = data.frame(cbind(model1$residuals^2, df$GS3, df$GS3^2, df$GS5, df$GS5^2))\n",
    "colnames(df_white1) = c('resid', 'GS3', 'GS3_2', 'GS5', 'GS5_2')\n",
    "white_model_1 = lm(resid ~ GS3 + GS3_2 + GS5 + GS5_2, data = df_white1) \n",
    "summary(white_model_1)"
   ]
  },
  {
   "cell_type": "markdown",
   "metadata": {},
   "source": [
    "We can note that for most o the variables the p-values are to high to reject the null hypothesis with confidence. Therefore, we do not reject the null hypothesis of homoskedasticity, in contrast with the GC test.\n",
    "\n",
    "\n",
    "Depite the different results about the rejection of the homoskedasticity, the inspection of the ts plot of the residuals, together with the GC test results, seems to indicate that the variance of the residuals had increased after observation 300.\n"
   ]
  },
  {
   "cell_type": "markdown",
   "metadata": {},
   "source": [
    "**(4)** Apply the possible solutions to heteroskedasticity:\n",
    "> **(a)** Transform the variables into logs"
   ]
  },
  {
   "cell_type": "markdown",
   "metadata": {},
   "source": [
    "If the cause of the heteroskedasticity is known (i.e. induced by a constant in the variance of the error), the easiest way to fix it is to make a trnsformation of the original linear model (i.e. dividing or multiplying by a constant, and/or taking the log).\n",
    "\n",
    "In our case in particular the variables are already in log, therefore theres no reason to apply this procedure. Furthermore, the White test does not reject the null of homeskedasticity, which is an evidence that the log difference procedure may have been at least partically effective."
   ]
  },
  {
   "cell_type": "markdown",
   "metadata": {},
   "source": [
    "> **(b)** Apply the White (1980) heteroskedasticity correction for the standard errors\n",
    "\n",
    "[coeftest](https://www.rdocumentation.org/packages/lmtest/versions/0.9-38/topics/coeftest)\n",
    "\n",
    "[vcovH](https://www.rdocumentation.org/packages/plm/versions/1.6-5/topics/vcovHC)"
   ]
  },
  {
   "cell_type": "markdown",
   "metadata": {},
   "source": [
    "### SE corrected model 1 "
   ]
  },
  {
   "cell_type": "code",
   "execution_count": 41,
   "metadata": {},
   "outputs": [
    {
     "data": {
      "text/plain": [
       "\n",
       "t test of coefficients:\n",
       "\n",
       "            Estimate Std. Error t value Pr(>|t|)    \n",
       "(Intercept) 0.046022   0.122904  0.3745   0.7082    \n",
       "GS5         1.156815   0.033860 34.1646   <2e-16 ***\n",
       "---\n",
       "Signif. codes:  0 '***' 0.001 '**' 0.01 '*' 0.05 '.' 0.1 ' ' 1\n"
      ]
     },
     "metadata": {},
     "output_type": "display_data"
    }
   ],
   "source": [
    "coeftest(model1, vcov =  vcovHC(model1, type = \"HC0\"))"
   ]
  },
  {
   "cell_type": "markdown",
   "metadata": {},
   "source": [
    "The White standard error correction does not affect our conclusion about the significance of the \"GS5\" independent variable. Since the White test for homoskedasticity did not rejected the null hypothesis, the result of the White correction comes with no surprise to us."
   ]
  },
  {
   "cell_type": "markdown",
   "metadata": {},
   "source": [
    "**(5)** Test for violations of the third OLS assumption: $cov(u_t, u_{t-1})=0$\n",
    "\n",
    "One easy and effective way to test for violations of this hypothesis is to analyse the scatter plot of the fitted residuals against its lagged value, and the time series plot of the fitted residuals."
   ]
  },
  {
   "cell_type": "code",
   "execution_count": 42,
   "metadata": {},
   "outputs": [
    {
     "data": {
      "image/png": "[encoded data removed]",
      "text/plain": [
       "Plot with title \"resid1 ~ resid1_lag1\""
      ]
     },
     "metadata": {},
     "output_type": "display_data"
    }
   ],
   "source": [
    "plot.default(Lag(model1$residuals, 1), model1$residuals, col='darkblue')\n",
    "title('resid1 ~ resid1_lag1')"
   ]
  },
  {
   "cell_type": "code",
   "execution_count": 43,
   "metadata": {},
   "outputs": [
    {
     "data": {
      "image/png": "[encoded data removed]",
      "text/plain": [
       "Plot with title \"resid1\""
      ]
     },
     "metadata": {},
     "output_type": "display_data"
    }
   ],
   "source": [
    "ts.plot(model1$residuals)\n",
    "title('resid1')"
   ]
  },
  {
   "cell_type": "markdown",
   "metadata": {},
   "source": [
    "Both the scatter plot and ts plot for both of the models show a sligthly positive relationship between the residuals and its lag. This means that it is possible that third OLS hypothesis my have beem violated, but further tests need to be done."
   ]
  },
  {
   "cell_type": "code",
   "execution_count": null,
   "metadata": {},
   "outputs": [],
   "source": []
  }
 ],
 "metadata": {
  "kernelspec": {
   "display_name": "R",
   "language": "R",
   "name": "ir"
  },
  "language_info": {
   "codemirror_mode": "r",
   "file_extension": ".r",
   "mimetype": "text/x-r-source",
   "name": "R",
   "pygments_lexer": "r",
   "version": "3.6.1"
  }
 },
 "nbformat": 4,
 "nbformat_minor": 4
}
