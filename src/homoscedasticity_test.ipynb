{
 "cells": [
  {
   "cell_type": "markdown",
   "metadata": {},
   "source": [
    "# Exercise - OLS violations\n",
    "\n",
    "**(1)** Test for violations of the first OLS assumption: $E[u_t]=0$\n",
    "\n",
    "**(2)** Apply the possible solutions to violtations of the first OLS assumtions:\n",
    "> **(a)** Use constant coefficient in the linear regression\n",
    "\n",
    "**(3)** Test for violations of the homoskedasticity assumption $E[u^2_t]=\\sigma^2$:\n",
    "> **(a)** Goldfeld-Quandt (1965) test\n",
    "\n",
    "> **(b)** White (1980) test, which has two implementations\n",
    ">> **(i)** Lagrange multiplier test\n",
    "\n",
    "**(4)** Apply the possible solutions to heteroskedasticity:\n",
    "> **(a)** Transform the variables into logs\n",
    "\n",
    "> **(b)** Apply the White (1980) heteroskedasticity correction for the standard errors\n",
    "\n",
    "**(5)** Test for violations of the third OLS assumption: $cov(u_t, u_{t-1})=0$"
   ]
  },
  {
   "cell_type": "code",
   "execution_count": 35,
   "metadata": {},
   "outputs": [
    {
     "name": "stderr",
     "output_type": "stream",
     "text": [
      "Warning message:\n",
      "\"package 'Hmisc' was built under R version 3.6.3\"Loading required package: lattice\n",
      "Loading required package: survival\n",
      "Warning message:\n",
      "\"package 'survival' was built under R version 3.6.3\"Loading required package: Formula\n",
      "Warning message:\n",
      "\"package 'Formula' was built under R version 3.6.3\"Loading required package: ggplot2\n",
      "Registered S3 methods overwritten by 'ggplot2':\n",
      "  method         from \n",
      "  [.quosures     rlang\n",
      "  c.quosures     rlang\n",
      "  print.quosures rlang\n",
      "\n",
      "Attaching package: 'Hmisc'\n",
      "\n",
      "The following objects are masked from 'package:dplyr':\n",
      "\n",
      "    src, summarize\n",
      "\n",
      "The following objects are masked from 'package:base':\n",
      "\n",
      "    format.pval, units\n",
      "\n"
     ]
    }
   ],
   "source": [
    "library(here)\n",
    "library(readxl)\n",
    "library(car)\n",
    "library(lmtest)\n",
    "library(dplyr)\n",
    "library(plm)\n",
    "library(Hmisc)"
   ]
  },
  {
   "cell_type": "code",
   "execution_count": 10,
   "metadata": {},
   "outputs": [
    {
     "data": {
      "text/html": [
       "<table>\n",
       "<thead><tr><th scope=col>Data</th><th scope=col>PETR4</th><th scope=col>rcppet</th><th scope=col>ITAUSA</th><th scope=col>rcpitausa</th><th scope=col>IBOV</th><th scope=col>rcpibov</th><th scope=col>BM1</th><th scope=col>BM1p</th><th scope=col>BM2</th><th scope=col>...</th><th scope=col>Mom2</th><th scope=col>Mom2p</th><th scope=col>Mom3</th><th scope=col>Mom3p</th><th scope=col>ILLIQ1</th><th scope=col>ILLIQ1p</th><th scope=col>ILLIQ2</th><th scope=col>ILLIQ2p</th><th scope=col>ILLIQ3</th><th scope=col>ILLIQ3p</th></tr></thead>\n",
       "<tbody>\n",
       "\t<tr><td>2001-01-02  </td><td>2.822474    </td><td> 2.8213380  </td><td>0.2695546   </td><td>-1.5666102  </td><td>15425       </td><td> 1.0820077  </td><td>-0.008020660</td><td>-0.8020660  </td><td>-0.009106201</td><td>...         </td><td> 0.050059196</td><td> 5.0059196  </td><td> 0.002738827</td><td> 0.2738827  </td><td>-0.004059543</td><td>-0.4059543  </td><td> 0.056667209</td><td> 5.6667209  </td><td> 0.010049764</td><td> 1.0049764  </td></tr>\n",
       "\t<tr><td>2001-01-03  </td><td>2.975915    </td><td> 5.2937754  </td><td>0.2879978   </td><td> 6.6181905  </td><td>16599       </td><td> 7.3352883  </td><td> 0.071019791</td><td> 7.1019791  </td><td> 0.062202081</td><td>...         </td><td> 0.069391854</td><td> 6.9391854  </td><td> 0.068765141</td><td> 6.8765141  </td><td> 0.083359264</td><td> 8.3359264  </td><td> 0.066459663</td><td> 6.6459663  </td><td> 0.087869622</td><td> 8.7869622  </td></tr>\n",
       "\t<tr><td>2001-01-04  </td><td>2.996894    </td><td> 0.7024584  </td><td>0.2851603   </td><td>-0.9901062  </td><td>16675       </td><td> 0.4568139  </td><td> 0.000996872</td><td> 0.0996872  </td><td> 0.007382796</td><td>...         </td><td>-0.007310275</td><td>-0.7310275  </td><td>-0.000676961</td><td>-0.0676961  </td><td> 0.004370704</td><td> 0.4370704  </td><td>-0.007697583</td><td>-0.7697583  </td><td>-0.004855833</td><td>-0.4855833  </td></tr>\n",
       "\t<tr><td>2001-01-05  </td><td>2.968723    </td><td>-0.9444483  </td><td>0.2794855   </td><td>-2.0101160  </td><td>16409       </td><td>-1.6080627  </td><td>-0.008905386</td><td>-0.8905386  </td><td>-0.006155613</td><td>...         </td><td>-0.011557406</td><td>-1.1557406  </td><td>-0.003794188</td><td>-0.3794188  </td><td>-0.018392449</td><td>-1.8392449  </td><td>-0.012300227</td><td>-1.2300227  </td><td> 0.006731826</td><td> 0.6731826  </td></tr>\n",
       "\t<tr><td>2001-01-08  </td><td>2.960331    </td><td>-0.2830560  </td><td>0.2823229   </td><td> 1.0101086  </td><td>16562       </td><td> 0.9280950  </td><td> 0.006842936</td><td> 0.6842936  </td><td> 0.009757482</td><td>...         </td><td> 0.006140224</td><td> 0.6140224  </td><td> 0.002387666</td><td> 0.2387666  </td><td> 0.007300743</td><td> 0.7300743  </td><td> 0.002003660</td><td> 0.2003660  </td><td> 0.006125503</td><td> 0.6125503  </td></tr>\n",
       "\t<tr><td>2001-01-09  </td><td>3.022667    </td><td> 2.0838280  </td><td>0.2837416   </td><td> 0.5012537  </td><td>16975       </td><td> 2.4630759  </td><td> 0.022935860</td><td> 2.2935860  </td><td> 0.028703423</td><td>...         </td><td> 0.013163301</td><td> 1.3163301  </td><td> 0.031327028</td><td> 3.1327028  </td><td> 0.024950778</td><td> 2.4950778  </td><td> 0.019179260</td><td> 1.9179260  </td><td> 0.020972461</td><td> 2.0972461  </td></tr>\n",
       "</tbody>\n",
       "</table>\n"
      ],
      "text/latex": [
       "\\begin{tabular}{r|lllllllllllllllllllllllllllllll}\n",
       " Data & PETR4 & rcppet & ITAUSA & rcpitausa & IBOV & rcpibov & BM1 & BM1p & BM2 & ... & Mom2 & Mom2p & Mom3 & Mom3p & ILLIQ1 & ILLIQ1p & ILLIQ2 & ILLIQ2p & ILLIQ3 & ILLIQ3p\\\\\n",
       "\\hline\n",
       "\t 2001-01-02   & 2.822474     &  2.8213380   & 0.2695546    & -1.5666102   & 15425        &  1.0820077   & -0.008020660 & -0.8020660   & -0.009106201 & ...          &  0.050059196 &  5.0059196   &  0.002738827 &  0.2738827   & -0.004059543 & -0.4059543   &  0.056667209 &  5.6667209   &  0.010049764 &  1.0049764  \\\\\n",
       "\t 2001-01-03   & 2.975915     &  5.2937754   & 0.2879978    &  6.6181905   & 16599        &  7.3352883   &  0.071019791 &  7.1019791   &  0.062202081 & ...          &  0.069391854 &  6.9391854   &  0.068765141 &  6.8765141   &  0.083359264 &  8.3359264   &  0.066459663 &  6.6459663   &  0.087869622 &  8.7869622  \\\\\n",
       "\t 2001-01-04   & 2.996894     &  0.7024584   & 0.2851603    & -0.9901062   & 16675        &  0.4568139   &  0.000996872 &  0.0996872   &  0.007382796 & ...          & -0.007310275 & -0.7310275   & -0.000676961 & -0.0676961   &  0.004370704 &  0.4370704   & -0.007697583 & -0.7697583   & -0.004855833 & -0.4855833  \\\\\n",
       "\t 2001-01-05   & 2.968723     & -0.9444483   & 0.2794855    & -2.0101160   & 16409        & -1.6080627   & -0.008905386 & -0.8905386   & -0.006155613 & ...          & -0.011557406 & -1.1557406   & -0.003794188 & -0.3794188   & -0.018392449 & -1.8392449   & -0.012300227 & -1.2300227   &  0.006731826 &  0.6731826  \\\\\n",
       "\t 2001-01-08   & 2.960331     & -0.2830560   & 0.2823229    &  1.0101086   & 16562        &  0.9280950   &  0.006842936 &  0.6842936   &  0.009757482 & ...          &  0.006140224 &  0.6140224   &  0.002387666 &  0.2387666   &  0.007300743 &  0.7300743   &  0.002003660 &  0.2003660   &  0.006125503 &  0.6125503  \\\\\n",
       "\t 2001-01-09   & 3.022667     &  2.0838280   & 0.2837416    &  0.5012537   & 16975        &  2.4630759   &  0.022935860 &  2.2935860   &  0.028703423 & ...          &  0.013163301 &  1.3163301   &  0.031327028 &  3.1327028   &  0.024950778 &  2.4950778   &  0.019179260 &  1.9179260   &  0.020972461 &  2.0972461  \\\\\n",
       "\\end{tabular}\n"
      ],
      "text/markdown": [
       "\n",
       "| Data | PETR4 | rcppet | ITAUSA | rcpitausa | IBOV | rcpibov | BM1 | BM1p | BM2 | ... | Mom2 | Mom2p | Mom3 | Mom3p | ILLIQ1 | ILLIQ1p | ILLIQ2 | ILLIQ2p | ILLIQ3 | ILLIQ3p |\n",
       "|---|---|---|---|---|---|---|---|---|---|---|---|---|---|---|---|---|---|---|---|---|\n",
       "| 2001-01-02   | 2.822474     |  2.8213380   | 0.2695546    | -1.5666102   | 15425        |  1.0820077   | -0.008020660 | -0.8020660   | -0.009106201 | ...          |  0.050059196 |  5.0059196   |  0.002738827 |  0.2738827   | -0.004059543 | -0.4059543   |  0.056667209 |  5.6667209   |  0.010049764 |  1.0049764   |\n",
       "| 2001-01-03   | 2.975915     |  5.2937754   | 0.2879978    |  6.6181905   | 16599        |  7.3352883   |  0.071019791 |  7.1019791   |  0.062202081 | ...          |  0.069391854 |  6.9391854   |  0.068765141 |  6.8765141   |  0.083359264 |  8.3359264   |  0.066459663 |  6.6459663   |  0.087869622 |  8.7869622   |\n",
       "| 2001-01-04   | 2.996894     |  0.7024584   | 0.2851603    | -0.9901062   | 16675        |  0.4568139   |  0.000996872 |  0.0996872   |  0.007382796 | ...          | -0.007310275 | -0.7310275   | -0.000676961 | -0.0676961   |  0.004370704 |  0.4370704   | -0.007697583 | -0.7697583   | -0.004855833 | -0.4855833   |\n",
       "| 2001-01-05   | 2.968723     | -0.9444483   | 0.2794855    | -2.0101160   | 16409        | -1.6080627   | -0.008905386 | -0.8905386   | -0.006155613 | ...          | -0.011557406 | -1.1557406   | -0.003794188 | -0.3794188   | -0.018392449 | -1.8392449   | -0.012300227 | -1.2300227   |  0.006731826 |  0.6731826   |\n",
       "| 2001-01-08   | 2.960331     | -0.2830560   | 0.2823229    |  1.0101086   | 16562        |  0.9280950   |  0.006842936 |  0.6842936   |  0.009757482 | ...          |  0.006140224 |  0.6140224   |  0.002387666 |  0.2387666   |  0.007300743 |  0.7300743   |  0.002003660 |  0.2003660   |  0.006125503 |  0.6125503   |\n",
       "| 2001-01-09   | 3.022667     |  2.0838280   | 0.2837416    |  0.5012537   | 16975        |  2.4630759   |  0.022935860 |  2.2935860   |  0.028703423 | ...          |  0.013163301 |  1.3163301   |  0.031327028 |  3.1327028   |  0.024950778 |  2.4950778   |  0.019179260 |  1.9179260   |  0.020972461 |  2.0972461   |\n",
       "\n"
      ],
      "text/plain": [
       "  Data       PETR4    rcppet     ITAUSA    rcpitausa  IBOV  rcpibov   \n",
       "1 2001-01-02 2.822474  2.8213380 0.2695546 -1.5666102 15425  1.0820077\n",
       "2 2001-01-03 2.975915  5.2937754 0.2879978  6.6181905 16599  7.3352883\n",
       "3 2001-01-04 2.996894  0.7024584 0.2851603 -0.9901062 16675  0.4568139\n",
       "4 2001-01-05 2.968723 -0.9444483 0.2794855 -2.0101160 16409 -1.6080627\n",
       "5 2001-01-08 2.960331 -0.2830560 0.2823229  1.0101086 16562  0.9280950\n",
       "6 2001-01-09 3.022667  2.0838280 0.2837416  0.5012537 16975  2.4630759\n",
       "  BM1          BM1p       BM2          ... Mom2         Mom2p      Mom3        \n",
       "1 -0.008020660 -0.8020660 -0.009106201 ...  0.050059196  5.0059196  0.002738827\n",
       "2  0.071019791  7.1019791  0.062202081 ...  0.069391854  6.9391854  0.068765141\n",
       "3  0.000996872  0.0996872  0.007382796 ... -0.007310275 -0.7310275 -0.000676961\n",
       "4 -0.008905386 -0.8905386 -0.006155613 ... -0.011557406 -1.1557406 -0.003794188\n",
       "5  0.006842936  0.6842936  0.009757482 ...  0.006140224  0.6140224  0.002387666\n",
       "6  0.022935860  2.2935860  0.028703423 ...  0.013163301  1.3163301  0.031327028\n",
       "  Mom3p      ILLIQ1       ILLIQ1p    ILLIQ2       ILLIQ2p    ILLIQ3      \n",
       "1  0.2738827 -0.004059543 -0.4059543  0.056667209  5.6667209  0.010049764\n",
       "2  6.8765141  0.083359264  8.3359264  0.066459663  6.6459663  0.087869622\n",
       "3 -0.0676961  0.004370704  0.4370704 -0.007697583 -0.7697583 -0.004855833\n",
       "4 -0.3794188 -0.018392449 -1.8392449 -0.012300227 -1.2300227  0.006731826\n",
       "5  0.2387666  0.007300743  0.7300743  0.002003660  0.2003660  0.006125503\n",
       "6  3.1327028  0.024950778  2.4950778  0.019179260  1.9179260  0.020972461\n",
       "  ILLIQ3p   \n",
       "1  1.0049764\n",
       "2  8.7869622\n",
       "3 -0.4855833\n",
       "4  0.6731826\n",
       "5  0.6125503\n",
       "6  2.0972461"
      ]
     },
     "metadata": {},
     "output_type": "display_data"
    }
   ],
   "source": [
    "df = read_excel(here('src', 'data', 'dados_portfolio.xlsx'))\n",
    "head(df)"
   ]
  },
  {
   "cell_type": "code",
   "execution_count": 11,
   "metadata": {},
   "outputs": [
    {
     "data": {
      "text/html": [
       "<ol class=list-inline>\n",
       "\t<li>4868</li>\n",
       "\t<li>31</li>\n",
       "</ol>\n"
      ],
      "text/latex": [
       "\\begin{enumerate*}\n",
       "\\item 4868\n",
       "\\item 31\n",
       "\\end{enumerate*}\n"
      ],
      "text/markdown": [
       "1. 4868\n",
       "2. 31\n",
       "\n",
       "\n"
      ],
      "text/plain": [
       "[1] 4868   31"
      ]
     },
     "metadata": {},
     "output_type": "display_data"
    }
   ],
   "source": [
    "dim(df)"
   ]
  },
  {
   "cell_type": "code",
   "execution_count": 12,
   "metadata": {},
   "outputs": [
    {
     "data": {
      "image/png": "[encoded data removed]",
      "text/plain": [
       "plot without title"
      ]
     },
     "metadata": {},
     "output_type": "display_data"
    }
   ],
   "source": [
    "par(mfrow=c(2, 1))\n",
    "ts.plot(df$rcpibov)\n",
    "ts.plot(df$rcpitausa)"
   ]
  },
  {
   "cell_type": "markdown",
   "metadata": {},
   "source": [
    "**(1)** Test for violations of the first OLS assumption: $E[u_t]=0$\n",
    "\n",
    "To test for violations of the first OLS assumtion, we estimate the linear model without including an intercept."
   ]
  },
  {
   "cell_type": "markdown",
   "metadata": {},
   "source": [
    "### Model 1: rcpitausa ~ rcpibov"
   ]
  },
  {
   "cell_type": "code",
   "execution_count": 13,
   "metadata": {},
   "outputs": [
    {
     "data": {
      "text/plain": [
       "\n",
       "Call:\n",
       "lm(formula = rcpitausa ~ rcpibov - 1, data = df)\n",
       "\n",
       "Residuals:\n",
       "    Min      1Q  Median      3Q     Max \n",
       "-6.7269 -0.7791 -0.0041  0.8068 10.8712 \n",
       "\n",
       "Coefficients:\n",
       "        Estimate Std. Error t value Pr(>|t|)    \n",
       "rcpibov  0.95016    0.01091   87.12   <2e-16 ***\n",
       "---\n",
       "Signif. codes:  0 '***' 0.001 '**' 0.01 '*' 0.05 '.' 0.1 ' ' 1\n",
       "\n",
       "Residual standard error: 1.377 on 4867 degrees of freedom\n",
       "Multiple R-squared:  0.6093,\tAdjusted R-squared:  0.6092 \n",
       "F-statistic:  7590 on 1 and 4867 DF,  p-value: < 2.2e-16\n"
      ]
     },
     "metadata": {},
     "output_type": "display_data"
    }
   ],
   "source": [
    "model1 = lm(rcpitausa ~ rcpibov -1, df)\n",
    "summary(model1)"
   ]
  },
  {
   "cell_type": "markdown",
   "metadata": {},
   "source": [
    "### Model 2: rcpitausa ~ rcpibov + BM1p + Size1p + Mom1p + ILLIQ1p"
   ]
  },
  {
   "cell_type": "code",
   "execution_count": 14,
   "metadata": {},
   "outputs": [
    {
     "data": {
      "text/plain": [
       "\n",
       "Call:\n",
       "lm(formula = rcpitausa ~ rcpibov + BM1p + Size1p + Mom1p + ILLIQ1p - \n",
       "    1, data = df)\n",
       "\n",
       "Residuals:\n",
       "    Min      1Q  Median      3Q     Max \n",
       "-7.0455 -0.7774 -0.0029  0.7925 10.2846 \n",
       "\n",
       "Coefficients:\n",
       "        Estimate Std. Error t value Pr(>|t|)    \n",
       "rcpibov  0.75745    0.04659  16.258  < 2e-16 ***\n",
       "BM1p    -0.08378    0.03840  -2.182   0.0292 *  \n",
       "Size1p  -0.06716    0.03350  -2.005   0.0450 *  \n",
       "Mom1p   -0.14398    0.03454  -4.169 3.12e-05 ***\n",
       "ILLIQ1p  0.46407    0.05208   8.911  < 2e-16 ***\n",
       "---\n",
       "Signif. codes:  0 '***' 0.001 '**' 0.01 '*' 0.05 '.' 0.1 ' ' 1\n",
       "\n",
       "Residual standard error: 1.357 on 4863 degrees of freedom\n",
       "Multiple R-squared:  0.6208,\tAdjusted R-squared:  0.6204 \n",
       "F-statistic:  1592 on 5 and 4863 DF,  p-value: < 2.2e-16\n"
      ]
     },
     "metadata": {},
     "output_type": "display_data"
    }
   ],
   "source": [
    "model2 = lm(rcpitausa ~ rcpibov + BM1p + Size1p + Mom1p + ILLIQ1p -1, df)\n",
    "summary(model2)"
   ]
  },
  {
   "cell_type": "code",
   "execution_count": 15,
   "metadata": {},
   "outputs": [
    {
     "data": {
      "image/png": "[encoded data removed]",
      "text/plain": [
       "Plot with title \"Residuals: rcpitausa ~ rcpibov + BM1p + Size1p + Mom1p + ILLIQ1p\""
      ]
     },
     "metadata": {},
     "output_type": "display_data"
    }
   ],
   "source": [
    "par(mfrow=c(2,1))\n",
    "ts.plot(model1$residuals)\n",
    "title('Residuals: rcpitausa ~ rcpibov')\n",
    "ts.plot(model2$residuals)\n",
    "title('Residuals: rcpitausa ~ rcpibov + BM1p + Size1p + Mom1p + ILLIQ1p')"
   ]
  },
  {
   "cell_type": "code",
   "execution_count": 16,
   "metadata": {},
   "outputs": [
    {
     "name": "stdout",
     "output_type": "stream",
     "text": [
      "[1] \"Mean of the residuals of the first model: 0.0360889834331515Mean of the residuals of the second model: 0.0316658406273357\"\n"
     ]
    }
   ],
   "source": [
    "print(paste0('Mean of the residuals of the first model: ', mean(model1$residuals), 'Mean of the residuals of the second model: ', mean(model2$residuals)))"
   ]
  },
  {
   "cell_type": "markdown",
   "metadata": {},
   "source": [
    "The analysis of the residuals of the first and second model (ts plot and mean) appears to indicate that the first hypothesis is not violated.\n",
    "\n",
    "Since we do not have any good reason to exclude the intercept, we choose to include it."
   ]
  },
  {
   "cell_type": "markdown",
   "metadata": {},
   "source": [
    "**(2)** Apply the possible solutions to violtations of the first OLS assumtions:\n",
    "> **(a)** Use constant coefficient in the linear regression"
   ]
  },
  {
   "cell_type": "markdown",
   "metadata": {},
   "source": [
    "### Model 1: rcpitausa ~ rcpibov + const"
   ]
  },
  {
   "cell_type": "code",
   "execution_count": 17,
   "metadata": {},
   "outputs": [
    {
     "data": {
      "text/plain": [
       "\n",
       "Call:\n",
       "lm(formula = rcpitausa ~ rcpibov, data = df)\n",
       "\n",
       "Residuals:\n",
       "    Min      1Q  Median      3Q     Max \n",
       "-6.7645 -0.8155 -0.0401  0.7709 10.8362 \n",
       "\n",
       "Coefficients:\n",
       "            Estimate Std. Error t value Pr(>|t|)    \n",
       "(Intercept)  0.03611    0.01974   1.829   0.0675 .  \n",
       "rcpibov      0.94973    0.01091  87.082   <2e-16 ***\n",
       "---\n",
       "Signif. codes:  0 '***' 0.001 '**' 0.01 '*' 0.05 '.' 0.1 ' ' 1\n",
       "\n",
       "Residual standard error: 1.377 on 4866 degrees of freedom\n",
       "Multiple R-squared:  0.6091,\tAdjusted R-squared:  0.6091 \n",
       "F-statistic:  7583 on 1 and 4866 DF,  p-value: < 2.2e-16\n"
      ]
     },
     "metadata": {},
     "output_type": "display_data"
    }
   ],
   "source": [
    "model1 = lm(rcpitausa ~ rcpibov, df)\n",
    "summary(model1)"
   ]
  },
  {
   "cell_type": "markdown",
   "metadata": {},
   "source": [
    "### Model 2: rcpitausa ~ rcpibov + BM1p + Size1p + Mom1p + ILLIQ1p + const"
   ]
  },
  {
   "cell_type": "code",
   "execution_count": 18,
   "metadata": {},
   "outputs": [
    {
     "data": {
      "text/plain": [
       "\n",
       "Call:\n",
       "lm(formula = rcpitausa ~ rcpibov + BM1p + Size1p + Mom1p + ILLIQ1p, \n",
       "    data = df)\n",
       "\n",
       "Residuals:\n",
       "    Min      1Q  Median      3Q     Max \n",
       "-7.0758 -0.8086 -0.0347  0.7587 10.2569 \n",
       "\n",
       "Coefficients:\n",
       "            Estimate Std. Error t value Pr(>|t|)    \n",
       "(Intercept)  0.03185    0.01951   1.632   0.1026    \n",
       "rcpibov      0.76062    0.04662  16.315  < 2e-16 ***\n",
       "BM1p        -0.08451    0.03839  -2.201   0.0278 *  \n",
       "Size1p      -0.06956    0.03352  -2.075   0.0380 *  \n",
       "Mom1p       -0.14161    0.03456  -4.097 4.25e-05 ***\n",
       "ILLIQ1p      0.46067    0.05211   8.840  < 2e-16 ***\n",
       "---\n",
       "Signif. codes:  0 '***' 0.001 '**' 0.01 '*' 0.05 '.' 0.1 ' ' 1\n",
       "\n",
       "Residual standard error: 1.357 on 4862 degrees of freedom\n",
       "Multiple R-squared:  0.6206,\tAdjusted R-squared:  0.6202 \n",
       "F-statistic:  1591 on 5 and 4862 DF,  p-value: < 2.2e-16\n"
      ]
     },
     "metadata": {},
     "output_type": "display_data"
    }
   ],
   "source": [
    "model2 = lm(rcpitausa ~ rcpibov + BM1p + Size1p + Mom1p + ILLIQ1p, df)\n",
    "summary(model2)"
   ]
  },
  {
   "cell_type": "markdown",
   "metadata": {},
   "source": [
    "**(3)** Test for violations of the homoskedasticity assumption $E[u^2_t]=\\sigma^2$:\n",
    "> **(a)** Goldfeld-Quandt (1965) test"
   ]
  },
  {
   "cell_type": "markdown",
   "metadata": {},
   "source": [
    "Assume that we have a sample o f size T, which in our case is T=4868. The Goldfeld-Quandt test consists in splitting the sample into two parts, T1 and T2. The linear regression model is estimated in each of the samples, and the residual variances are calulated. \n",
    "\n",
    "The hypothesis of the test is as follows:\n",
    "\n",
    "$\n",
    "H_0: \\sigma^2_1 = \\sigma^2_2 \\\\\n",
    "H_1: \\sigma^2_1 \\neq \\sigma^2_2\n",
    "$\n",
    "\n",
    "The test statistics, denoted GQ, is given by:\n",
    "\n",
    "$\n",
    "GQ = \\frac{max(s^2_1, s^2_2)}{min(s^2_1, s^2_2)} \\sim F(T_1-k, T_2-k)\n",
    "$\n",
    "\n",
    "Where:\n",
    "\n",
    "$\n",
    "s^2_1 = \\frac{\\hat{u}^{'}_1\\hat{u}_1}{T_1-k} \\quad s^2_2 = \\frac{\\hat{u}^{'}_2\\hat{u}_2}{T_2-k} \n",
    "$\n"
   ]
  },
  {
   "cell_type": "markdown",
   "metadata": {},
   "source": [
    "### Model 1: rcpitausa ~ rcpibov + const"
   ]
  },
  {
   "cell_type": "code",
   "execution_count": 19,
   "metadata": {},
   "outputs": [
    {
     "data": {
      "text/plain": [
       "\n",
       "\tGoldfeld-Quandt test\n",
       "\n",
       "data:  df$rcpitausa ~ df$rcpibov\n",
       "GQ = 0.50878, df1 = 2432, df2 = 2432, p-value < 2.2e-16\n",
       "alternative hypothesis: variance changes from segment 1 to 2\n"
      ]
     },
     "metadata": {},
     "output_type": "display_data"
    }
   ],
   "source": [
    "gqtest(df$rcpitausa ~ df$rcpibov, alternative = 'two.sided')"
   ]
  },
  {
   "cell_type": "markdown",
   "metadata": {},
   "source": [
    "### Model 2: rcpitausa ~ rcpibov + BM1p + Size1p + Mom1p + ILLIQ1p + const"
   ]
  },
  {
   "cell_type": "code",
   "execution_count": 20,
   "metadata": {},
   "outputs": [
    {
     "data": {
      "text/plain": [
       "\n",
       "\tGoldfeld-Quandt test\n",
       "\n",
       "data:  df$rcpitausa ~ df$rcpibov + df$BM1p + df$Size1p + df$Mom1p +     df$ILLIQ1p\n",
       "GQ = 0.53597, df1 = 2428, df2 = 2428, p-value < 2.2e-16\n",
       "alternative hypothesis: variance changes from segment 1 to 2\n"
      ]
     },
     "metadata": {},
     "output_type": "display_data"
    }
   ],
   "source": [
    "gqtest(df$rcpitausa ~ df$rcpibov + df$BM1p + df$Size1p + df$Mom1p + df$ILLIQ1p, alternative = 'two.sided')"
   ]
  },
  {
   "cell_type": "markdown",
   "metadata": {},
   "source": [
    "For both of the models the p-value is smaller then the threshold of 0.05. Therefore, we can strongly reject the null hypothesis of homoskedasticity."
   ]
  },
  {
   "cell_type": "markdown",
   "metadata": {},
   "source": [
    "> **(b)** White (1980) test, which has two implementations"
   ]
  },
  {
   "cell_type": "markdown",
   "metadata": {},
   "source": [
    "The white test consists of a two-step procedure. First estimate a linear regression model (assuming two independent variables):\n",
    "\n",
    "$\n",
    "y_t = \\beta_1 + \\beta_2 x_{2,t} + \\beta_3 x_{3,t} + u_t\n",
    "$\n",
    "\n",
    "Second, run the auxiliary regression model given by:\n",
    "\n",
    "$\n",
    "\\hat{u}^2_t = \\alpha_1 + \\alpha_2 x_{2,t} + \\alpha_3 x_{3,t} + \\alpha_4 x^2_{2,t} + \\alpha_5 x^2_{3,t} + \\alpha_6 x_{2,t}x_{3,t} + v_t\n",
    "$\n",
    "\n",
    "Given the auxiliary regression, the test can be conducted using two different approaches:"
   ]
  },
  {
   "cell_type": "markdown",
   "metadata": {},
   "source": [
    "> **(i)** Lagrange multiplier test\n",
    "\n",
    "The Lagrange multiplier test is an easy implementation of the White test which consists of the following hypothesis:\n",
    "\n",
    "$\n",
    "H_0: \\sigma^2_t = \\sigma^2 \\\\\n",
    "H_1: \\sigma^2_t = \\mathcal{f}(\\mathbf{x}, \\mathbf{z}; \\delta) \n",
    "$\n",
    "\n",
    "where $\\mathbf{x}$ is a vector of independent variables, $\\mathbf{z}$ is a vector of the interations between independent variables, and $\\delta$ is a vector of coefficients including the interation coefficients.\n",
    "\n",
    "The test statistics, denoted W, is given by:\n",
    "\n",
    "$\n",
    "W = T*R^2 \\sim \\chi^2(m)\n",
    "$\n",
    "\n",
    "where T is the sample size, and $R^2$ is the coefficient of determination. The statistics $W$ follows a qui-squared distribution with $m$ degress f freedom, where $m$ is the number of regressors in the auxiliary model."
   ]
  },
  {
   "cell_type": "markdown",
   "metadata": {},
   "source": [
    "### Auxiliary model 1"
   ]
  },
  {
   "cell_type": "code",
   "execution_count": 21,
   "metadata": {},
   "outputs": [
    {
     "data": {
      "text/plain": [
       "\n",
       "Call:\n",
       "lm(formula = resid ~ rcpibov + rcpibov_2, data = df_white1)\n",
       "\n",
       "Residuals:\n",
       "    Min      1Q  Median      3Q     Max \n",
       "-18.434  -1.507  -1.101   0.243 114.861 \n",
       "\n",
       "Coefficients:\n",
       "            Estimate Std. Error t value Pr(>|t|)    \n",
       "(Intercept) 1.524132   0.061167  24.917  < 2e-16 ***\n",
       "rcpibov     0.099219   0.032231   3.078  0.00209 ** \n",
       "rcpibov_2   0.112192   0.005924  18.939  < 2e-16 ***\n",
       "---\n",
       "Signif. codes:  0 '***' 0.001 '**' 0.01 '*' 0.05 '.' 0.1 ' ' 1\n",
       "\n",
       "Residual standard error: 4.043 on 4865 degrees of freedom\n",
       "Multiple R-squared:  0.06881,\tAdjusted R-squared:  0.06843 \n",
       "F-statistic: 179.8 on 2 and 4865 DF,  p-value: < 2.2e-16\n"
      ]
     },
     "metadata": {},
     "output_type": "display_data"
    }
   ],
   "source": [
    "df_white1 = data.frame(cbind(model1$residuals^2, df$rcpibov, df$rcpibov^2))\n",
    "colnames(df_white1) = c('resid', 'rcpibov', 'rcpibov_2')\n",
    "white_model_1 = lm(resid ~ rcpibov + rcpibov_2 , data = df_white1) \n",
    "summary(white_model_1)"
   ]
  },
  {
   "cell_type": "markdown",
   "metadata": {},
   "source": [
    "Since both the independent variables of the auxiliary model 1 are significant, we have evidence to reject the null hypothesis of homoskedasticity."
   ]
  },
  {
   "cell_type": "markdown",
   "metadata": {},
   "source": [
    "### Auxiliary model 2"
   ]
  },
  {
   "cell_type": "code",
   "execution_count": 22,
   "metadata": {},
   "outputs": [
    {
     "data": {
      "text/plain": [
       "\n",
       "Call:\n",
       "lm(formula = resid ~ rcpibov + rcpibov_2 + BM1p + BM1p_2 + Size1p + \n",
       "    Size1p_2 + Mom1p + Mom1p_2 + ILLIQ1p + ILLIQ1p_2 + BM1p_Size1p + \n",
       "    BM1p_Mom1p + BM1p_ILLIQ1p + Size1p_Mom1p + Size1p_ILLIQ1p + \n",
       "    Mom1p_ILLIQ1p, data = df_white2)\n",
       "\n",
       "Residuals:\n",
       "    Min      1Q  Median      3Q     Max \n",
       "-12.475  -1.400  -0.950   0.244 101.499 \n",
       "\n",
       "Coefficients:\n",
       "               Estimate Std. Error t value Pr(>|t|)    \n",
       "(Intercept)     1.22530    0.06478  18.914  < 2e-16 ***\n",
       "rcpibov        -0.06357    0.12869  -0.494 0.621360    \n",
       "rcpibov_2       0.06067    0.02198   2.761 0.005788 ** \n",
       "BM1p            0.26153    0.10656   2.454 0.014148 *  \n",
       "BM1p_2          0.41120    0.11385   3.612 0.000307 ***\n",
       "Size1p         -0.11856    0.09273  -1.279 0.201108    \n",
       "Size1p_2        0.40194    0.07678   5.235 1.72e-07 ***\n",
       "Mom1p          -0.19736    0.09546  -2.068 0.038740 *  \n",
       "Mom1p_2         0.37504    0.08120   4.619 3.96e-06 ***\n",
       "ILLIQ1p         0.24644    0.14589   1.689 0.091233 .  \n",
       "ILLIQ1p_2       0.30382    0.05703   5.327 1.04e-07 ***\n",
       "BM1p_Size1p    -0.57315    0.14352  -3.993 6.61e-05 ***\n",
       "BM1p_Mom1p      0.29738    0.12611   2.358 0.018409 *  \n",
       "BM1p_ILLIQ1p   -0.54392    0.14795  -3.676 0.000239 ***\n",
       "Size1p_Mom1p   -0.57912    0.13607  -4.256 2.12e-05 ***\n",
       "Size1p_ILLIQ1p  0.34736    0.11050   3.143 0.001680 ** \n",
       "Mom1p_ILLIQ1p  -0.41181    0.11801  -3.490 0.000488 ***\n",
       "---\n",
       "Signif. codes:  0 '***' 0.001 '**' 0.01 '*' 0.05 '.' 0.1 ' ' 1\n",
       "\n",
       "Residual standard error: 3.726 on 4851 degrees of freedom\n",
       "Multiple R-squared:  0.09289,\tAdjusted R-squared:  0.0899 \n",
       "F-statistic: 31.05 on 16 and 4851 DF,  p-value: < 2.2e-16\n"
      ]
     },
     "metadata": {},
     "output_type": "display_data"
    }
   ],
   "source": [
    "df_white2 = data.frame(cbind(model2$residuals^2, df$rcpibov, df$rcpibov^2,\n",
    "                            df$BM1p, df$BM1p^2,\n",
    "                            df$Size1p, df$Size1p^2,\n",
    "                            df$Mom1p, df$Mom1p^2,\n",
    "                            df$ILLIQ1p, df$ILLIQ1p^2,\n",
    "                            df$BM1p * df$Size1p, df$BM1p * df$Mom1p, \n",
    "                            df$BM1p * df$ILLIQ1p, df$Size1p * df$Mom1p,\n",
    "                            df$Size1p * df$ILLIQ1p, df$Mom1p * df$ILLIQ1p))\n",
    "colnames(df_white2) = c('resid', 'rcpibov', 'rcpibov_2', 'BM1p', 'BM1p_2',\n",
    "                        'Size1p', 'Size1p_2', 'Mom1p', 'Mom1p_2', 'ILLIQ1p', 'ILLIQ1p_2',\n",
    "                        'BM1p_Size1p', 'BM1p_Mom1p', 'BM1p_ILLIQ1p', 'Size1p_Mom1p',\n",
    "                        'Size1p_ILLIQ1p', 'Mom1p_ILLIQ1p')\n",
    "white_model_2 = lm(resid ~ rcpibov + rcpibov_2 + BM1p + BM1p_2 + \n",
    "                   Size1p + Size1p_2 + Mom1p + Mom1p_2 + ILLIQ1p + ILLIQ1p_2 + \n",
    "                   BM1p_Size1p + BM1p_Mom1p + BM1p_ILLIQ1p + Size1p_Mom1p + \n",
    "                   Size1p_ILLIQ1p + Mom1p_ILLIQ1p, data = df_white2) \n",
    "summary(white_model_2)"
   ]
  },
  {
   "cell_type": "markdown",
   "metadata": {},
   "source": [
    "Since most fo the independent variables of the auxiliary model 2 are significant, we have evidence to reject the null hypothesis of homoskedasticity."
   ]
  },
  {
   "cell_type": "markdown",
   "metadata": {},
   "source": [
    "**(4)** Apply the possible solutions to heteroskedasticity:\n",
    "> **(a)** Transform the variables into logs"
   ]
  },
  {
   "cell_type": "markdown",
   "metadata": {},
   "source": [
    "If the cause of the heteroskedasticity is known (i.e. induced by a constant in the variance of the error), the easiest way to fix it is to make a trnsformation of the original linear model (i.e. dividing or multiplying by a constant, and/or taking the log).\n",
    "\n",
    "Since in our case we do not know the source of heteroskedasticity, error correction procedures as the below are recomended."
   ]
  },
  {
   "cell_type": "markdown",
   "metadata": {},
   "source": [
    "> **(b)** Apply the White (1980) heteroskedasticity correction for the standard errors\n",
    "\n",
    "[coeftest](https://www.rdocumentation.org/packages/lmtest/versions/0.9-38/topics/coeftest)\n",
    "\n",
    "[vcovH](https://www.rdocumentation.org/packages/plm/versions/1.6-5/topics/vcovHC)"
   ]
  },
  {
   "cell_type": "markdown",
   "metadata": {},
   "source": [
    "### SE corrected model 1 "
   ]
  },
  {
   "cell_type": "code",
   "execution_count": 55,
   "metadata": {},
   "outputs": [
    {
     "data": {
      "text/plain": [
       "\n",
       "t test of coefficients:\n",
       "\n",
       "            Estimate Std. Error t value Pr(>|t|)    \n",
       "(Intercept) 0.036105   0.019733  1.8297  0.06736 .  \n",
       "rcpibov     0.949731   0.017977 52.8291  < 2e-16 ***\n",
       "---\n",
       "Signif. codes:  0 '***' 0.001 '**' 0.01 '*' 0.05 '.' 0.1 ' ' 1\n"
      ]
     },
     "metadata": {},
     "output_type": "display_data"
    }
   ],
   "source": [
    "coeftest(model1, vcov =  vcovHC(model1, type = \"HC0\"))"
   ]
  },
  {
   "cell_type": "markdown",
   "metadata": {},
   "source": [
    "The White standard error correction does not affect our conclusion about the significance of the \"rcpibov\" independent variable."
   ]
  },
  {
   "cell_type": "markdown",
   "metadata": {},
   "source": [
    "### SE corrected model 2"
   ]
  },
  {
   "cell_type": "code",
   "execution_count": 56,
   "metadata": {},
   "outputs": [
    {
     "data": {
      "text/plain": [
       "\n",
       "t test of coefficients:\n",
       "\n",
       "             Estimate Std. Error t value  Pr(>|t|)    \n",
       "(Intercept)  0.031848   0.019518  1.6317  0.102798    \n",
       "rcpibov      0.760624   0.061579 12.3520 < 2.2e-16 ***\n",
       "BM1p        -0.084512   0.050634 -1.6691  0.095166 .  \n",
       "Size1p      -0.069563   0.044040 -1.5795  0.114278    \n",
       "Mom1p       -0.141610   0.044972 -3.1489  0.001649 ** \n",
       "ILLIQ1p      0.460671   0.075721  6.0838 1.264e-09 ***\n",
       "---\n",
       "Signif. codes:  0 '***' 0.001 '**' 0.01 '*' 0.05 '.' 0.1 ' ' 1\n"
      ]
     },
     "metadata": {},
     "output_type": "display_data"
    }
   ],
   "source": [
    "coeftest(model2, vcov =  vcovHC(model2, type = \"HC0\"))"
   ]
  },
  {
   "cell_type": "markdown",
   "metadata": {},
   "source": [
    "The White correction for the model 2 specification changes significantly when compared with the model with no correction. Both the variables \"BM1p\" and \"Size1p\" that were significant before now became not significnat any more."
   ]
  },
  {
   "cell_type": "markdown",
   "metadata": {},
   "source": [
    "**(5)** Test for violations of the third OLS assumption: $cov(u_t, u_{t-1})=0$\n",
    "\n",
    "One easy and effective way to test for violations of this hypothesis is to analyse the scatter plot of the fitted residuals against its lagged value, and the time series plot of the fitted residuals."
   ]
  },
  {
   "cell_type": "code",
   "execution_count": 39,
   "metadata": {},
   "outputs": [
    {
     "data": {
      "image/png": "[encoded data removed]",
      "text/plain": [
       "Plot with title \"resid1 ~ resid1_lag1\""
      ]
     },
     "metadata": {},
     "output_type": "display_data"
    }
   ],
   "source": [
    "plot.default(Lag(model1$residuals, 1), model1$residuals, col='darkblue')\n",
    "title('resid1 ~ resid1_lag1')"
   ]
  },
  {
   "cell_type": "code",
   "execution_count": 40,
   "metadata": {},
   "outputs": [
    {
     "data": {
      "image/png": "[encoded data removed]",
      "text/plain": [
       "Plot with title \"resid1\""
      ]
     },
     "metadata": {},
     "output_type": "display_data"
    }
   ],
   "source": [
    "ts.plot(model1$residuals)\n",
    "title('resid1')"
   ]
  },
  {
   "cell_type": "code",
   "execution_count": 41,
   "metadata": {},
   "outputs": [
    {
     "data": {
      "image/png": "[encoded data removed]",
      "text/plain": [
       "Plot with title \"resid2 ~ resid2_lag1\""
      ]
     },
     "metadata": {},
     "output_type": "display_data"
    }
   ],
   "source": [
    "plot.default(Lag(model2$residuals, +1), model2$residuals, col='darkblue')\n",
    "title('resid2 ~ resid2_lag1')"
   ]
  },
  {
   "cell_type": "code",
   "execution_count": 42,
   "metadata": {},
   "outputs": [
    {
     "data": {
      "image/png": "[encoded data removed]",
      "text/plain": [
       "Plot with title \"resid2\""
      ]
     },
     "metadata": {},
     "output_type": "display_data"
    }
   ],
   "source": [
    "ts.plot(model2$residuals)\n",
    "title('resid2')"
   ]
  },
  {
   "cell_type": "markdown",
   "metadata": {},
   "source": [
    "Both the scatter plot and ts plot for both of the models do not indicate any sign of relationship of the errors throught time. This is an evidence of the abcense of violation of the third hypothesis."
   ]
  }
 ],
 "metadata": {
  "kernelspec": {
   "display_name": "R",
   "language": "R",
   "name": "ir"
  },
  "language_info": {
   "codemirror_mode": "r",
   "file_extension": ".r",
   "mimetype": "text/x-r-source",
   "name": "R",
   "pygments_lexer": "r",
   "version": "3.6.1"
  }
 },
 "nbformat": 4,
 "nbformat_minor": 4
}
