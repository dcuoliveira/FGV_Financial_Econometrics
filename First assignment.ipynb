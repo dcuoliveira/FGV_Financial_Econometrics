{
 "cells": [
  {
   "cell_type": "markdown",
   "metadata": {},
   "source": [
    "\n",
    "**(1)** Testes de normalidade da série por três formas: histograma, curtose/assimetria, gráfico de quartis\n",
    "\n",
    "**(2)** Avaliar se hipótese de normalidade vale para a série ou não."
   ]
  },
  {
   "cell_type": "code",
   "execution_count": 1,
   "metadata": {},
   "outputs": [
    {
     "name": "stderr",
     "output_type": "stream",
     "text": [
      "\n",
      "Attaching package: 'dplyr'\n",
      "\n",
      "The following objects are masked from 'package:stats':\n",
      "\n",
      "    filter, lag\n",
      "\n",
      "The following objects are masked from 'package:base':\n",
      "\n",
      "    intersect, setdiff, setequal, union\n",
      "\n",
      "Registered S3 methods overwritten by 'ggplot2':\n",
      "  method         from \n",
      "  [.quosures     rlang\n",
      "  c.quosures     rlang\n",
      "  print.quosures rlang\n",
      "Registered S3 method overwritten by 'rvest':\n",
      "  method            from\n",
      "  read_xml.response xml2\n",
      "-- Attaching packages --------------------------------------- tidyverse 1.2.1 --\n",
      "v ggplot2 3.1.1     v readr   1.3.1\n",
      "v tibble  2.1.1     v purrr   0.3.2\n",
      "v tidyr   0.8.3     v stringr 1.4.0\n",
      "v ggplot2 3.1.1     v forcats 0.4.0\n",
      "-- Conflicts ------------------------------------------ tidyverse_conflicts() --\n",
      "x dplyr::filter() masks stats::filter()\n",
      "x dplyr::lag()    masks stats::lag()\n",
      "Warning message:\n",
      "\"package 'mvtnorm' was built under R version 3.6.3\"Warning message:\n",
      "\"package 'fBasics' was built under R version 3.6.3\"Loading required package: timeDate\n",
      "Loading required package: timeSeries\n",
      "Warning message:\n",
      "\"package 'timeSeries' was built under R version 3.6.3\"Warning message:\n",
      "\"package 'reshape' was built under R version 3.6.3\"\n",
      "Attaching package: 'reshape'\n",
      "\n",
      "The following objects are masked from 'package:tidyr':\n",
      "\n",
      "    expand, smiths\n",
      "\n",
      "The following object is masked from 'package:dplyr':\n",
      "\n",
      "    rename\n",
      "\n",
      "Warning message:\n",
      "\"package 'forecast' was built under R version 3.6.3\"Registered S3 method overwritten by 'xts':\n",
      "  method     from\n",
      "  as.zoo.xts zoo \n",
      "Registered S3 method overwritten by 'quantmod':\n",
      "  method            from\n",
      "  as.zoo.data.frame zoo \n"
     ]
    }
   ],
   "source": [
    "library(dplyr)\n",
    "library(tidyverse)\n",
    "library(readxl)\n",
    "library(mvtnorm)\n",
    "library(fBasics)\n",
    "library(ggplot2)\n",
    "library(reshape)\n",
    "library(forecast)\n",
    "library(normtest)"
   ]
  },
  {
   "cell_type": "code",
   "execution_count": 19,
   "metadata": {},
   "outputs": [],
   "source": [
    "summary_statistics = function(df){\n",
    "    out_list = list()\n",
    "    for (col in colnames(df)){\n",
    "        loop_list = list()\n",
    "        loop_df = df %>% select(col)\n",
    "        for (stat_name in c('mean', 'skew', 'kurtosis')){\n",
    "            if (stat_name == 'mean'){\n",
    "                loop_list[stat_name] = mean(loop_df[,1], na.rm = TRUE)\n",
    "            }\n",
    "            else if (stat_name == 'skew'){\n",
    "                loop_list[stat_name] = skewness(loop_df[,1], na.rm = TRUE)\n",
    "            }\n",
    "            else if (stat_name == 'kurtosis'){\n",
    "                loop_list[stat_name] = kurtosis(loop_df[,1], na.rm = TRUE)\n",
    "            }\n",
    "        }\n",
    "        out_list[[col]] = loop_list\n",
    "    }\n",
    "    return(out_list)\n",
    "}\n",
    "\n",
    "jarque_bera_test = function(series){\n",
    "    out_list = list()\n",
    "    for (s in 1:dim(series)[2]){\n",
    "        jb_test = jb.norm.test(series[,s])\n",
    "        out_list[[colnames(series)[s]]]['pval'] = jb_test$p.value\n",
    "    }\n",
    "    return(out_list)\n",
    "}"
   ]
  },
  {
   "cell_type": "code",
   "execution_count": 3,
   "metadata": {},
   "outputs": [
    {
     "data": {
      "text/html": [
       "<table>\n",
       "<thead><tr><th scope=col>OBS</th><th scope=col>RENDMARK</th><th scope=col>RENDCYCO</th><th scope=col>RENDIT</th><th scope=col>RENDNCCO</th><th scope=col>RENDTEL</th></tr></thead>\n",
       "<tbody>\n",
       "\t<tr><td>1980:01    </td><td> 7.2634484 </td><td>  6.0802285</td><td>-0.5366491 </td><td> 4.49443616</td><td>10.9634461 </td></tr>\n",
       "\t<tr><td>1980:02    </td><td> 6.3398955 </td><td> -0.9241855</td><td>20.5049333 </td><td> 0.81392902</td><td> 3.4031675 </td></tr>\n",
       "\t<tr><td>1980:03    </td><td>-9.2852168 </td><td> -3.2861743</td><td> 9.2275332 </td><td>-8.33387844</td><td>-9.7050646 </td></tr>\n",
       "\t<tr><td>1980:04    </td><td> 0.7932908 </td><td>  5.2119766</td><td>-0.9027138 </td><td> 0.61518101</td><td>-0.2652719 </td></tr>\n",
       "\t<tr><td>1980:05    </td><td>-2.9024210 </td><td>-16.1642111</td><td>-0.8388108 </td><td>-5.10238748</td><td>-9.0053391 </td></tr>\n",
       "\t<tr><td>1980:06    </td><td> 8.6131509 </td><td> -1.0547036</td><td>-0.8116578 </td><td>12.25580033</td><td> 9.4430618 </td></tr>\n",
       "\t<tr><td>1980:07    </td><td> 3.9820628 </td><td> 11.1723770</td><td>-0.8230116 </td><td> 3.55036306</td><td>12.3905677 </td></tr>\n",
       "\t<tr><td>1980:08    </td><td>-1.1501709 </td><td>-11.0632755</td><td>-0.8217404 </td><td>-0.84902213</td><td> 1.7987231 </td></tr>\n",
       "\t<tr><td>1980:09    </td><td> 3.4861259 </td><td>-16.7769961</td><td>-0.7736204 </td><td>-0.06932147</td><td>-5.5755250 </td></tr>\n",
       "\t<tr><td>1980:10    </td><td> 4.3298503 </td><td> -7.0218340</td><td>-0.6249025 </td><td>-3.20033524</td><td> 0.4522192 </td></tr>\n",
       "\t<tr><td>1980:11    </td><td> 0.9368753 </td><td> -9.7168467</td><td>-0.7855379 </td><td> 2.76868880</td><td>-0.7153396 </td></tr>\n",
       "\t<tr><td>1980:12    </td><td>-5.2024558 </td><td>  5.2157057</td><td>10.4464487 </td><td>-2.12063700</td><td>-7.5583407 </td></tr>\n",
       "\t<tr><td>1981:01    </td><td>-2.0827575 </td><td> -6.6120010</td><td>-4.3516276 </td><td>-0.16204885</td><td>-5.0105682 </td></tr>\n",
       "</tbody>\n",
       "</table>\n"
      ],
      "text/latex": [
       "\\begin{tabular}{r|llllll}\n",
       " OBS & RENDMARK & RENDCYCO & RENDIT & RENDNCCO & RENDTEL\\\\\n",
       "\\hline\n",
       "\t 1980:01     &  7.2634484  &   6.0802285 & -0.5366491  &  4.49443616 & 10.9634461 \\\\\n",
       "\t 1980:02     &  6.3398955  &  -0.9241855 & 20.5049333  &  0.81392902 &  3.4031675 \\\\\n",
       "\t 1980:03     & -9.2852168  &  -3.2861743 &  9.2275332  & -8.33387844 & -9.7050646 \\\\\n",
       "\t 1980:04     &  0.7932908  &   5.2119766 & -0.9027138  &  0.61518101 & -0.2652719 \\\\\n",
       "\t 1980:05     & -2.9024210  & -16.1642111 & -0.8388108  & -5.10238748 & -9.0053391 \\\\\n",
       "\t 1980:06     &  8.6131509  &  -1.0547036 & -0.8116578  & 12.25580033 &  9.4430618 \\\\\n",
       "\t 1980:07     &  3.9820628  &  11.1723770 & -0.8230116  &  3.55036306 & 12.3905677 \\\\\n",
       "\t 1980:08     & -1.1501709  & -11.0632755 & -0.8217404  & -0.84902213 &  1.7987231 \\\\\n",
       "\t 1980:09     &  3.4861259  & -16.7769961 & -0.7736204  & -0.06932147 & -5.5755250 \\\\\n",
       "\t 1980:10     &  4.3298503  &  -7.0218340 & -0.6249025  & -3.20033524 &  0.4522192 \\\\\n",
       "\t 1980:11     &  0.9368753  &  -9.7168467 & -0.7855379  &  2.76868880 & -0.7153396 \\\\\n",
       "\t 1980:12     & -5.2024558  &   5.2157057 & 10.4464487  & -2.12063700 & -7.5583407 \\\\\n",
       "\t 1981:01     & -2.0827575  &  -6.6120010 & -4.3516276  & -0.16204885 & -5.0105682 \\\\\n",
       "\\end{tabular}\n"
      ],
      "text/markdown": [
       "\n",
       "| OBS | RENDMARK | RENDCYCO | RENDIT | RENDNCCO | RENDTEL |\n",
       "|---|---|---|---|---|---|\n",
       "| 1980:01     |  7.2634484  |   6.0802285 | -0.5366491  |  4.49443616 | 10.9634461  |\n",
       "| 1980:02     |  6.3398955  |  -0.9241855 | 20.5049333  |  0.81392902 |  3.4031675  |\n",
       "| 1980:03     | -9.2852168  |  -3.2861743 |  9.2275332  | -8.33387844 | -9.7050646  |\n",
       "| 1980:04     |  0.7932908  |   5.2119766 | -0.9027138  |  0.61518101 | -0.2652719  |\n",
       "| 1980:05     | -2.9024210  | -16.1642111 | -0.8388108  | -5.10238748 | -9.0053391  |\n",
       "| 1980:06     |  8.6131509  |  -1.0547036 | -0.8116578  | 12.25580033 |  9.4430618  |\n",
       "| 1980:07     |  3.9820628  |  11.1723770 | -0.8230116  |  3.55036306 | 12.3905677  |\n",
       "| 1980:08     | -1.1501709  | -11.0632755 | -0.8217404  | -0.84902213 |  1.7987231  |\n",
       "| 1980:09     |  3.4861259  | -16.7769961 | -0.7736204  | -0.06932147 | -5.5755250  |\n",
       "| 1980:10     |  4.3298503  |  -7.0218340 | -0.6249025  | -3.20033524 |  0.4522192  |\n",
       "| 1980:11     |  0.9368753  |  -9.7168467 | -0.7855379  |  2.76868880 | -0.7153396  |\n",
       "| 1980:12     | -5.2024558  |   5.2157057 | 10.4464487  | -2.12063700 | -7.5583407  |\n",
       "| 1981:01     | -2.0827575  |  -6.6120010 | -4.3516276  | -0.16204885 | -5.0105682  |\n",
       "\n"
      ],
      "text/plain": [
       "   OBS     RENDMARK   RENDCYCO    RENDIT     RENDNCCO    RENDTEL   \n",
       "1  1980:01  7.2634484   6.0802285 -0.5366491  4.49443616 10.9634461\n",
       "2  1980:02  6.3398955  -0.9241855 20.5049333  0.81392902  3.4031675\n",
       "3  1980:03 -9.2852168  -3.2861743  9.2275332 -8.33387844 -9.7050646\n",
       "4  1980:04  0.7932908   5.2119766 -0.9027138  0.61518101 -0.2652719\n",
       "5  1980:05 -2.9024210 -16.1642111 -0.8388108 -5.10238748 -9.0053391\n",
       "6  1980:06  8.6131509  -1.0547036 -0.8116578 12.25580033  9.4430618\n",
       "7  1980:07  3.9820628  11.1723770 -0.8230116  3.55036306 12.3905677\n",
       "8  1980:08 -1.1501709 -11.0632755 -0.8217404 -0.84902213  1.7987231\n",
       "9  1980:09  3.4861259 -16.7769961 -0.7736204 -0.06932147 -5.5755250\n",
       "10 1980:10  4.3298503  -7.0218340 -0.6249025 -3.20033524  0.4522192\n",
       "11 1980:11  0.9368753  -9.7168467 -0.7855379  2.76868880 -0.7153396\n",
       "12 1980:12 -5.2024558   5.2157057 10.4464487 -2.12063700 -7.5583407\n",
       "13 1981:01 -2.0827575  -6.6120010 -4.3516276 -0.16204885 -5.0105682"
      ]
     },
     "metadata": {},
     "output_type": "display_data"
    }
   ],
   "source": [
    "df = read_excel('xr215smr.xls')\n",
    "head(df, n = 13)"
   ]
  },
  {
   "cell_type": "code",
   "execution_count": 4,
   "metadata": {},
   "outputs": [
    {
     "data": {
      "text/html": [
       "<table>\n",
       "<thead><tr><th scope=col>RENDMARK</th><th scope=col>RENDCYCO</th><th scope=col>RENDIT</th><th scope=col>RENDNCCO</th><th scope=col>RENDTEL</th></tr></thead>\n",
       "<tbody>\n",
       "\t<tr><td> 7.2634484 </td><td>  6.0802285</td><td>-0.5366491 </td><td> 4.494436  </td><td>10.9634461 </td></tr>\n",
       "\t<tr><td> 6.3398955 </td><td> -0.9241855</td><td>20.5049333 </td><td> 0.813929  </td><td> 3.4031675 </td></tr>\n",
       "\t<tr><td>-9.2852168 </td><td> -3.2861743</td><td> 9.2275332 </td><td>-8.333878  </td><td>-9.7050646 </td></tr>\n",
       "\t<tr><td> 0.7932908 </td><td>  5.2119766</td><td>-0.9027138 </td><td> 0.615181  </td><td>-0.2652719 </td></tr>\n",
       "\t<tr><td>-2.9024210 </td><td>-16.1642111</td><td>-0.8388108 </td><td>-5.102387  </td><td>-9.0053391 </td></tr>\n",
       "\t<tr><td> 8.6131509 </td><td> -1.0547036</td><td>-0.8116578 </td><td>12.255800  </td><td> 9.4430618 </td></tr>\n",
       "</tbody>\n",
       "</table>\n"
      ],
      "text/latex": [
       "\\begin{tabular}{r|lllll}\n",
       " RENDMARK & RENDCYCO & RENDIT & RENDNCCO & RENDTEL\\\\\n",
       "\\hline\n",
       "\t  7.2634484  &   6.0802285 & -0.5366491  &  4.494436   & 10.9634461 \\\\\n",
       "\t  6.3398955  &  -0.9241855 & 20.5049333  &  0.813929   &  3.4031675 \\\\\n",
       "\t -9.2852168  &  -3.2861743 &  9.2275332  & -8.333878   & -9.7050646 \\\\\n",
       "\t  0.7932908  &   5.2119766 & -0.9027138  &  0.615181   & -0.2652719 \\\\\n",
       "\t -2.9024210  & -16.1642111 & -0.8388108  & -5.102387   & -9.0053391 \\\\\n",
       "\t  8.6131509  &  -1.0547036 & -0.8116578  & 12.255800   &  9.4430618 \\\\\n",
       "\\end{tabular}\n"
      ],
      "text/markdown": [
       "\n",
       "| RENDMARK | RENDCYCO | RENDIT | RENDNCCO | RENDTEL |\n",
       "|---|---|---|---|---|\n",
       "|  7.2634484  |   6.0802285 | -0.5366491  |  4.494436   | 10.9634461  |\n",
       "|  6.3398955  |  -0.9241855 | 20.5049333  |  0.813929   |  3.4031675  |\n",
       "| -9.2852168  |  -3.2861743 |  9.2275332  | -8.333878   | -9.7050646  |\n",
       "|  0.7932908  |   5.2119766 | -0.9027138  |  0.615181   | -0.2652719  |\n",
       "| -2.9024210  | -16.1642111 | -0.8388108  | -5.102387   | -9.0053391  |\n",
       "|  8.6131509  |  -1.0547036 | -0.8116578  | 12.255800   |  9.4430618  |\n",
       "\n"
      ],
      "text/plain": [
       "  RENDMARK   RENDCYCO    RENDIT     RENDNCCO  RENDTEL   \n",
       "1  7.2634484   6.0802285 -0.5366491  4.494436 10.9634461\n",
       "2  6.3398955  -0.9241855 20.5049333  0.813929  3.4031675\n",
       "3 -9.2852168  -3.2861743  9.2275332 -8.333878 -9.7050646\n",
       "4  0.7932908   5.2119766 -0.9027138  0.615181 -0.2652719\n",
       "5 -2.9024210 -16.1642111 -0.8388108 -5.102387 -9.0053391\n",
       "6  8.6131509  -1.0547036 -0.8116578 12.255800  9.4430618"
      ]
     },
     "metadata": {},
     "output_type": "display_data"
    }
   ],
   "source": [
    "target_df = df %>% select(RENDMARK, RENDCYCO, RENDIT, RENDNCCO, RENDTEL)\n",
    "head(target_df)"
   ]
  },
  {
   "cell_type": "code",
   "execution_count": 5,
   "metadata": {
    "scrolled": false
   },
   "outputs": [],
   "source": [
    "series = ts(target_df, start = c(1980, 1), frequency = 12)"
   ]
  },
  {
   "cell_type": "markdown",
   "metadata": {},
   "source": [
    "### (1) Normality check"
   ]
  },
  {
   "cell_type": "markdown",
   "metadata": {},
   "source": [
    "Assuming that the data was generated by a multivariate gaussian distribution, generate samples of it using the emprirical mean vector and covariance matrix and then estimate summary statistics from samples."
   ]
  },
  {
   "cell_type": "code",
   "execution_count": 6,
   "metadata": {},
   "outputs": [],
   "source": [
    "cov_matrix = cov(series) %>% as.matrix()\n",
    "mean_vec = target_df %>% summarise_all(list(mean)) %>% as.numeric()"
   ]
  },
  {
   "cell_type": "code",
   "execution_count": 7,
   "metadata": {},
   "outputs": [],
   "source": [
    "normal_samples = as.data.frame(rmvnorm(n = dim(target_df)[1], mean = mean_vec, sigma = cov_matrix))\n",
    "colnames(normal_samples) = colnames(series)\n",
    "normal_stat_list = summary_statistics(normal_samples)"
   ]
  },
  {
   "cell_type": "markdown",
   "metadata": {},
   "source": [
    "No parametric assumtion, estimate summary statistics directly from empirical sample."
   ]
  },
  {
   "cell_type": "code",
   "execution_count": 8,
   "metadata": {},
   "outputs": [],
   "source": [
    "empirical_stat_list = summary_statistics(as.data.frame(target_df))"
   ]
  },
  {
   "cell_type": "code",
   "execution_count": 9,
   "metadata": {},
   "outputs": [
    {
     "name": "stderr",
     "output_type": "stream",
     "text": [
      "Using type as id variables\n",
      "Using type as id variables\n"
     ]
    },
    {
     "data": {
      "text/html": [
       "<table>\n",
       "<thead><tr><th scope=col>type</th><th scope=col>variable</th><th scope=col>value</th></tr></thead>\n",
       "<tbody>\n",
       "\t<tr><td>empirical </td><td>RENDMARK  </td><td> 7.2634484</td></tr>\n",
       "\t<tr><td>empirical </td><td>RENDMARK  </td><td> 6.3398955</td></tr>\n",
       "\t<tr><td>empirical </td><td>RENDMARK  </td><td>-9.2852168</td></tr>\n",
       "\t<tr><td>empirical </td><td>RENDMARK  </td><td> 0.7932908</td></tr>\n",
       "\t<tr><td>empirical </td><td>RENDMARK  </td><td>-2.9024210</td></tr>\n",
       "\t<tr><td>empirical </td><td>RENDMARK  </td><td> 8.6131509</td></tr>\n",
       "</tbody>\n",
       "</table>\n"
      ],
      "text/latex": [
       "\\begin{tabular}{r|lll}\n",
       " type & variable & value\\\\\n",
       "\\hline\n",
       "\t empirical  & RENDMARK   &  7.2634484\\\\\n",
       "\t empirical  & RENDMARK   &  6.3398955\\\\\n",
       "\t empirical  & RENDMARK   & -9.2852168\\\\\n",
       "\t empirical  & RENDMARK   &  0.7932908\\\\\n",
       "\t empirical  & RENDMARK   & -2.9024210\\\\\n",
       "\t empirical  & RENDMARK   &  8.6131509\\\\\n",
       "\\end{tabular}\n"
      ],
      "text/markdown": [
       "\n",
       "| type | variable | value |\n",
       "|---|---|---|\n",
       "| empirical  | RENDMARK   |  7.2634484 |\n",
       "| empirical  | RENDMARK   |  6.3398955 |\n",
       "| empirical  | RENDMARK   | -9.2852168 |\n",
       "| empirical  | RENDMARK   |  0.7932908 |\n",
       "| empirical  | RENDMARK   | -2.9024210 |\n",
       "| empirical  | RENDMARK   |  8.6131509 |\n",
       "\n"
      ],
      "text/plain": [
       "  type      variable value     \n",
       "1 empirical RENDMARK  7.2634484\n",
       "2 empirical RENDMARK  6.3398955\n",
       "3 empirical RENDMARK -9.2852168\n",
       "4 empirical RENDMARK  0.7932908\n",
       "5 empirical RENDMARK -2.9024210\n",
       "6 empirical RENDMARK  8.6131509"
      ]
     },
     "metadata": {},
     "output_type": "display_data"
    }
   ],
   "source": [
    "empirical_df = as.data.frame(target_df)\n",
    "empirical_df['type'] = 'empirical'\n",
    "normal_samples['type'] = 'normal'\n",
    "hist_df = rbind(melt(empirical_df), melt(normal_samples))\n",
    "head(hist_df)"
   ]
  },
  {
   "cell_type": "code",
   "execution_count": 10,
   "metadata": {},
   "outputs": [
    {
     "name": "stderr",
     "output_type": "stream",
     "text": [
      "`stat_bin()` using `bins = 30`. Pick better value with `binwidth`.\n",
      "`stat_bin()` using `bins = 30`. Pick better value with `binwidth`.\n"
     ]
    },
    {
     "data": {
      "image/png": "[encoded data removed]",
      "text/plain": [
       "plot without title"
      ]
     },
     "metadata": {},
     "output_type": "display_data"
    },
    {
     "name": "stderr",
     "output_type": "stream",
     "text": [
      "`stat_bin()` using `bins = 30`. Pick better value with `binwidth`.\n"
     ]
    },
    {
     "data": {
      "image/png": "[encoded data removed]",
      "text/plain": [
       "plot without title"
      ]
     },
     "metadata": {},
     "output_type": "display_data"
    },
    {
     "name": "stderr",
     "output_type": "stream",
     "text": [
      "`stat_bin()` using `bins = 30`. Pick better value with `binwidth`.\n"
     ]
    },
    {
     "data": {
      "image/png": "[encoded data removed]",
      "text/plain": [
       "plot without title"
      ]
     },
     "metadata": {},
     "output_type": "display_data"
    },
    {
     "name": "stderr",
     "output_type": "stream",
     "text": [
      "`stat_bin()` using `bins = 30`. Pick better value with `binwidth`.\n"
     ]
    },
    {
     "data": {
      "image/png": "[encoded data removed]",
      "text/plain": [
       "plot without title"
      ]
     },
     "metadata": {},
     "output_type": "display_data"
    },
    {
     "data": {
      "image/png": "[encoded data removed]",
      "text/plain": [
       "plot without title"
      ]
     },
     "metadata": {},
     "output_type": "display_data"
    }
   ],
   "source": [
    "for (col in unique(hist_df[,2])){\n",
    "    subset_df = hist_df %>% dplyr::filter(variable == col) %>% select(type, value)\n",
    "    print(\n",
    "        ggplot(subset_df, aes(x=value, color=type)) +\n",
    "        geom_histogram(fill=\"white\", alpha=0.5, position=\"identity\") + \n",
    "        labs(title=paste0(col, ':',' ', 'empirical vs normal'), x = \"value\", y = \"Count\")\n",
    "        )\n",
    "}"
   ]
  },
  {
   "cell_type": "code",
   "execution_count": 11,
   "metadata": {},
   "outputs": [
    {
     "data": {
      "text/html": [
       "<table>\n",
       "<thead><tr><th></th><th scope=col>Fitted Normal</th><th scope=col>Empirical</th></tr></thead>\n",
       "<tbody>\n",
       "\t<tr><th scope=row>RENDMARK.mean</th><td> 0.66552737</td><td> 0.80888397</td></tr>\n",
       "\t<tr><th scope=row>RENDMARK.skew</th><td> 0.17312127</td><td>-1.15057229</td></tr>\n",
       "\t<tr><th scope=row>RENDMARK.kurtosis</th><td> 0.27215190</td><td> 5.30528631</td></tr>\n",
       "\t<tr><th scope=row>RENDCYCO.mean</th><td> 0.23431217</td><td> 0.49982597</td></tr>\n",
       "\t<tr><th scope=row>RENDCYCO.skew</th><td> 0.42715962</td><td>-0.22945845</td></tr>\n",
       "\t<tr><th scope=row>RENDCYCO.kurtosis</th><td> 0.23467958</td><td> 1.49391263</td></tr>\n",
       "\t<tr><th scope=row>RENDIT.mean</th><td> 1.64688821</td><td> 1.32666751</td></tr>\n",
       "\t<tr><th scope=row>RENDIT.skew</th><td>-0.10577498</td><td> 0.57298196</td></tr>\n",
       "\t<tr><th scope=row>RENDIT.kurtosis</th><td> 0.18984448</td><td> 4.85613799</td></tr>\n",
       "\t<tr><th scope=row>RENDNCCO.mean</th><td> 0.76446706</td><td> 0.95138272</td></tr>\n",
       "\t<tr><th scope=row>RENDNCCO.skew</th><td> 0.19479425</td><td>-0.68521233</td></tr>\n",
       "\t<tr><th scope=row>RENDNCCO.kurtosis</th><td>-0.18125286</td><td> 4.59602763</td></tr>\n",
       "\t<tr><th scope=row>RENDTEL.mean</th><td> 1.25280877</td><td> 1.33682709</td></tr>\n",
       "\t<tr><th scope=row>RENDTEL.skew</th><td> 0.03534913</td><td> 0.05320231</td></tr>\n",
       "\t<tr><th scope=row>RENDTEL.kurtosis</th><td>-0.02416858</td><td> 2.98368210</td></tr>\n",
       "</tbody>\n",
       "</table>\n"
      ],
      "text/latex": [
       "\\begin{tabular}{r|ll}\n",
       "  & Fitted Normal & Empirical\\\\\n",
       "\\hline\n",
       "\tRENDMARK.mean &  0.66552737 &  0.80888397\\\\\n",
       "\tRENDMARK.skew &  0.17312127 & -1.15057229\\\\\n",
       "\tRENDMARK.kurtosis &  0.27215190 &  5.30528631\\\\\n",
       "\tRENDCYCO.mean &  0.23431217 &  0.49982597\\\\\n",
       "\tRENDCYCO.skew &  0.42715962 & -0.22945845\\\\\n",
       "\tRENDCYCO.kurtosis &  0.23467958 &  1.49391263\\\\\n",
       "\tRENDIT.mean &  1.64688821 &  1.32666751\\\\\n",
       "\tRENDIT.skew & -0.10577498 &  0.57298196\\\\\n",
       "\tRENDIT.kurtosis &  0.18984448 &  4.85613799\\\\\n",
       "\tRENDNCCO.mean &  0.76446706 &  0.95138272\\\\\n",
       "\tRENDNCCO.skew &  0.19479425 & -0.68521233\\\\\n",
       "\tRENDNCCO.kurtosis & -0.18125286 &  4.59602763\\\\\n",
       "\tRENDTEL.mean &  1.25280877 &  1.33682709\\\\\n",
       "\tRENDTEL.skew &  0.03534913 &  0.05320231\\\\\n",
       "\tRENDTEL.kurtosis & -0.02416858 &  2.98368210\\\\\n",
       "\\end{tabular}\n"
      ],
      "text/markdown": [
       "\n",
       "| <!--/--> | Fitted Normal | Empirical |\n",
       "|---|---|---|\n",
       "| RENDMARK.mean |  0.66552737 |  0.80888397 |\n",
       "| RENDMARK.skew |  0.17312127 | -1.15057229 |\n",
       "| RENDMARK.kurtosis |  0.27215190 |  5.30528631 |\n",
       "| RENDCYCO.mean |  0.23431217 |  0.49982597 |\n",
       "| RENDCYCO.skew |  0.42715962 | -0.22945845 |\n",
       "| RENDCYCO.kurtosis |  0.23467958 |  1.49391263 |\n",
       "| RENDIT.mean |  1.64688821 |  1.32666751 |\n",
       "| RENDIT.skew | -0.10577498 |  0.57298196 |\n",
       "| RENDIT.kurtosis |  0.18984448 |  4.85613799 |\n",
       "| RENDNCCO.mean |  0.76446706 |  0.95138272 |\n",
       "| RENDNCCO.skew |  0.19479425 | -0.68521233 |\n",
       "| RENDNCCO.kurtosis | -0.18125286 |  4.59602763 |\n",
       "| RENDTEL.mean |  1.25280877 |  1.33682709 |\n",
       "| RENDTEL.skew |  0.03534913 |  0.05320231 |\n",
       "| RENDTEL.kurtosis | -0.02416858 |  2.98368210 |\n",
       "\n"
      ],
      "text/plain": [
       "                  Fitted Normal Empirical  \n",
       "RENDMARK.mean      0.66552737    0.80888397\n",
       "RENDMARK.skew      0.17312127   -1.15057229\n",
       "RENDMARK.kurtosis  0.27215190    5.30528631\n",
       "RENDCYCO.mean      0.23431217    0.49982597\n",
       "RENDCYCO.skew      0.42715962   -0.22945845\n",
       "RENDCYCO.kurtosis  0.23467958    1.49391263\n",
       "RENDIT.mean        1.64688821    1.32666751\n",
       "RENDIT.skew       -0.10577498    0.57298196\n",
       "RENDIT.kurtosis    0.18984448    4.85613799\n",
       "RENDNCCO.mean      0.76446706    0.95138272\n",
       "RENDNCCO.skew      0.19479425   -0.68521233\n",
       "RENDNCCO.kurtosis -0.18125286    4.59602763\n",
       "RENDTEL.mean       1.25280877    1.33682709\n",
       "RENDTEL.skew       0.03534913    0.05320231\n",
       "RENDTEL.kurtosis  -0.02416858    2.98368210"
      ]
     },
     "metadata": {},
     "output_type": "display_data"
    }
   ],
   "source": [
    "summary_df = cbind(data.frame(unlist(normal_stat_list)), data.frame(unlist(empirical_stat_list)))\n",
    "colnames(summary_df) = c('Fitted Normal', 'Empirical')\n",
    "summary_df"
   ]
  },
  {
   "cell_type": "markdown",
   "metadata": {},
   "source": [
    "### **(2)** [Jarque and Bera (1980)](https://www.sciencedirect.com/science/article/abs/pii/0165176580900245) test for normality\n",
    "\n",
    "Implemented using \"normtest\" package. The null hypothesis is a joint hypothesis of the skewness being zero and the excess kurtosis being zero."
   ]
  },
  {
   "cell_type": "code",
   "execution_count": 20,
   "metadata": {},
   "outputs": [],
   "source": [
    "pval_list = jarque_bera_test(series)"
   ]
  },
  {
   "cell_type": "code",
   "execution_count": 22,
   "metadata": {},
   "outputs": [
    {
     "data": {
      "text/html": [
       "<dl class=dl-horizontal>\n",
       "\t<dt>RENDMARK.pval</dt>\n",
       "\t\t<dd>0</dd>\n",
       "\t<dt>RENDCYCO.pval</dt>\n",
       "\t\t<dd>0.0015</dd>\n",
       "\t<dt>RENDIT.pval</dt>\n",
       "\t\t<dd>0</dd>\n",
       "\t<dt>RENDNCCO.pval</dt>\n",
       "\t\t<dd>0</dd>\n",
       "\t<dt>RENDTEL.pval</dt>\n",
       "\t\t<dd>0</dd>\n",
       "</dl>\n"
      ],
      "text/latex": [
       "\\begin{description*}\n",
       "\\item[RENDMARK.pval] 0\n",
       "\\item[RENDCYCO.pval] 0.0015\n",
       "\\item[RENDIT.pval] 0\n",
       "\\item[RENDNCCO.pval] 0\n",
       "\\item[RENDTEL.pval] 0\n",
       "\\end{description*}\n"
      ],
      "text/markdown": [
       "RENDMARK.pval\n",
       ":   0RENDCYCO.pval\n",
       ":   0.0015RENDIT.pval\n",
       ":   0RENDNCCO.pval\n",
       ":   0RENDTEL.pval\n",
       ":   0\n",
       "\n"
      ],
      "text/plain": [
       "RENDMARK.pval RENDCYCO.pval   RENDIT.pval RENDNCCO.pval  RENDTEL.pval \n",
       "       0.0000        0.0015        0.0000        0.0000        0.0000 "
      ]
     },
     "metadata": {},
     "output_type": "display_data"
    }
   ],
   "source": [
    "unlist(pval_list)"
   ]
  }
 ],
 "metadata": {
  "kernelspec": {
   "display_name": "R",
   "language": "R",
   "name": "ir"
  },
  "language_info": {
   "codemirror_mode": "r",
   "file_extension": ".r",
   "mimetype": "text/x-r-source",
   "name": "R",
   "pygments_lexer": "r",
   "version": "3.6.1"
  }
 },
 "nbformat": 4,
 "nbformat_minor": 4
}
